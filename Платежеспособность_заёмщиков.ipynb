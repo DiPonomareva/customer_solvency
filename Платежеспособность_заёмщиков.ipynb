{
  "cells": [
    {
      "cell_type": "markdown",
      "id": "0d16f104",
      "metadata": {
        "deletable": false,
        "editable": false,
        "id": "0d16f104"
      },
      "source": [
        "# Исследование надежности заёмщиков\n"
      ]
    },
    {
      "cell_type": "markdown",
      "source": [
        "Кредитному отделу банка нужно разобраться, влияет ли семейное положение и количество детей клиента на факт погашения кредита в срок. Данные, которые нам предоставил банк — статистика о платёжеспособности клиентов.\n",
        "\n",
        "\n",
        "***Описание данных:***\n",
        "- children — количество детей в семье\n",
        "- days_employed — общий трудовой стаж в днях\n",
        "- dob_years — возраст клиента в годах\n",
        "- education — уровень образования клиента\n",
        "- education_id — идентификатор уровня образования\n",
        "- family_status — семейное положение\n",
        "- family_status_id — идентификатор семейного положения\n",
        "- gender — пол клиента\n",
        "- income_type — тип занятости\n",
        "- debt — имел ли задолженность по возврату кредитов\n",
        "- total_income — ежемесячный доход\n",
        "- purpose — цель получения кредита"
      ],
      "metadata": {
        "id": "tojnpZFiE3b9"
      },
      "id": "tojnpZFiE3b9"
    },
    {
      "cell_type": "markdown",
      "id": "031488ed",
      "metadata": {
        "deletable": false,
        "editable": false,
        "id": "031488ed"
      },
      "source": [
        "## Изучу общую информацию о данных"
      ]
    },
    {
      "cell_type": "code",
      "execution_count": 25,
      "id": "5658f86b",
      "metadata": {
        "deletable": false,
        "id": "5658f86b"
      },
      "outputs": [],
      "source": [
        "import pandas as pd\n",
        "\n",
        "try:\n",
        "    data = pd.read_csv('/datasets/data.csv')\n",
        "except:\n",
        "    data = pd.read_csv('https://code.s3.yandex.net/datasets/data.csv')"
      ]
    },
    {
      "cell_type": "markdown",
      "id": "97481df8",
      "metadata": {
        "deletable": false,
        "editable": false,
        "id": "97481df8"
      },
      "source": [
        "Рассмотрю данные и изучу основную информацию."
      ]
    },
    {
      "cell_type": "code",
      "execution_count": 26,
      "id": "29656d0c",
      "metadata": {
        "deletable": false,
        "id": "29656d0c",
        "outputId": "90489726-d7c9-46fc-fd67-ffda21556a8d",
        "colab": {
          "base_uri": "https://localhost:8080/",
          "height": 204
        }
      },
      "outputs": [
        {
          "output_type": "execute_result",
          "data": {
            "text/plain": [
              "   children  days_employed  dob_years education  education_id  \\\n",
              "0         1   -8437.673028         42    высшее             0   \n",
              "1         1   -4024.803754         36   среднее             1   \n",
              "2         0   -5623.422610         33   Среднее             1   \n",
              "3         3   -4124.747207         32   среднее             1   \n",
              "4         0  340266.072047         53   среднее             1   \n",
              "\n",
              "      family_status  family_status_id gender income_type  debt   total_income  \\\n",
              "0   женат / замужем                 0      F   сотрудник     0  253875.639453   \n",
              "1   женат / замужем                 0      F   сотрудник     0  112080.014102   \n",
              "2   женат / замужем                 0      M   сотрудник     0  145885.952297   \n",
              "3   женат / замужем                 0      M   сотрудник     0  267628.550329   \n",
              "4  гражданский брак                 1      F   пенсионер     0  158616.077870   \n",
              "\n",
              "                      purpose  \n",
              "0               покупка жилья  \n",
              "1     приобретение автомобиля  \n",
              "2               покупка жилья  \n",
              "3  дополнительное образование  \n",
              "4             сыграть свадьбу  "
            ],
            "text/html": [
              "\n",
              "  <div id=\"df-a28dbcfa-ad2b-422b-bb89-567b352bdb0c\">\n",
              "    <div class=\"colab-df-container\">\n",
              "      <div>\n",
              "<style scoped>\n",
              "    .dataframe tbody tr th:only-of-type {\n",
              "        vertical-align: middle;\n",
              "    }\n",
              "\n",
              "    .dataframe tbody tr th {\n",
              "        vertical-align: top;\n",
              "    }\n",
              "\n",
              "    .dataframe thead th {\n",
              "        text-align: right;\n",
              "    }\n",
              "</style>\n",
              "<table border=\"1\" class=\"dataframe\">\n",
              "  <thead>\n",
              "    <tr style=\"text-align: right;\">\n",
              "      <th></th>\n",
              "      <th>children</th>\n",
              "      <th>days_employed</th>\n",
              "      <th>dob_years</th>\n",
              "      <th>education</th>\n",
              "      <th>education_id</th>\n",
              "      <th>family_status</th>\n",
              "      <th>family_status_id</th>\n",
              "      <th>gender</th>\n",
              "      <th>income_type</th>\n",
              "      <th>debt</th>\n",
              "      <th>total_income</th>\n",
              "      <th>purpose</th>\n",
              "    </tr>\n",
              "  </thead>\n",
              "  <tbody>\n",
              "    <tr>\n",
              "      <th>0</th>\n",
              "      <td>1</td>\n",
              "      <td>-8437.673028</td>\n",
              "      <td>42</td>\n",
              "      <td>высшее</td>\n",
              "      <td>0</td>\n",
              "      <td>женат / замужем</td>\n",
              "      <td>0</td>\n",
              "      <td>F</td>\n",
              "      <td>сотрудник</td>\n",
              "      <td>0</td>\n",
              "      <td>253875.639453</td>\n",
              "      <td>покупка жилья</td>\n",
              "    </tr>\n",
              "    <tr>\n",
              "      <th>1</th>\n",
              "      <td>1</td>\n",
              "      <td>-4024.803754</td>\n",
              "      <td>36</td>\n",
              "      <td>среднее</td>\n",
              "      <td>1</td>\n",
              "      <td>женат / замужем</td>\n",
              "      <td>0</td>\n",
              "      <td>F</td>\n",
              "      <td>сотрудник</td>\n",
              "      <td>0</td>\n",
              "      <td>112080.014102</td>\n",
              "      <td>приобретение автомобиля</td>\n",
              "    </tr>\n",
              "    <tr>\n",
              "      <th>2</th>\n",
              "      <td>0</td>\n",
              "      <td>-5623.422610</td>\n",
              "      <td>33</td>\n",
              "      <td>Среднее</td>\n",
              "      <td>1</td>\n",
              "      <td>женат / замужем</td>\n",
              "      <td>0</td>\n",
              "      <td>M</td>\n",
              "      <td>сотрудник</td>\n",
              "      <td>0</td>\n",
              "      <td>145885.952297</td>\n",
              "      <td>покупка жилья</td>\n",
              "    </tr>\n",
              "    <tr>\n",
              "      <th>3</th>\n",
              "      <td>3</td>\n",
              "      <td>-4124.747207</td>\n",
              "      <td>32</td>\n",
              "      <td>среднее</td>\n",
              "      <td>1</td>\n",
              "      <td>женат / замужем</td>\n",
              "      <td>0</td>\n",
              "      <td>M</td>\n",
              "      <td>сотрудник</td>\n",
              "      <td>0</td>\n",
              "      <td>267628.550329</td>\n",
              "      <td>дополнительное образование</td>\n",
              "    </tr>\n",
              "    <tr>\n",
              "      <th>4</th>\n",
              "      <td>0</td>\n",
              "      <td>340266.072047</td>\n",
              "      <td>53</td>\n",
              "      <td>среднее</td>\n",
              "      <td>1</td>\n",
              "      <td>гражданский брак</td>\n",
              "      <td>1</td>\n",
              "      <td>F</td>\n",
              "      <td>пенсионер</td>\n",
              "      <td>0</td>\n",
              "      <td>158616.077870</td>\n",
              "      <td>сыграть свадьбу</td>\n",
              "    </tr>\n",
              "  </tbody>\n",
              "</table>\n",
              "</div>\n",
              "      <button class=\"colab-df-convert\" onclick=\"convertToInteractive('df-a28dbcfa-ad2b-422b-bb89-567b352bdb0c')\"\n",
              "              title=\"Convert this dataframe to an interactive table.\"\n",
              "              style=\"display:none;\">\n",
              "        \n",
              "  <svg xmlns=\"http://www.w3.org/2000/svg\" height=\"24px\"viewBox=\"0 0 24 24\"\n",
              "       width=\"24px\">\n",
              "    <path d=\"M0 0h24v24H0V0z\" fill=\"none\"/>\n",
              "    <path d=\"M18.56 5.44l.94 2.06.94-2.06 2.06-.94-2.06-.94-.94-2.06-.94 2.06-2.06.94zm-11 1L8.5 8.5l.94-2.06 2.06-.94-2.06-.94L8.5 2.5l-.94 2.06-2.06.94zm10 10l.94 2.06.94-2.06 2.06-.94-2.06-.94-.94-2.06-.94 2.06-2.06.94z\"/><path d=\"M17.41 7.96l-1.37-1.37c-.4-.4-.92-.59-1.43-.59-.52 0-1.04.2-1.43.59L10.3 9.45l-7.72 7.72c-.78.78-.78 2.05 0 2.83L4 21.41c.39.39.9.59 1.41.59.51 0 1.02-.2 1.41-.59l7.78-7.78 2.81-2.81c.8-.78.8-2.07 0-2.86zM5.41 20L4 18.59l7.72-7.72 1.47 1.35L5.41 20z\"/>\n",
              "  </svg>\n",
              "      </button>\n",
              "      \n",
              "  <style>\n",
              "    .colab-df-container {\n",
              "      display:flex;\n",
              "      flex-wrap:wrap;\n",
              "      gap: 12px;\n",
              "    }\n",
              "\n",
              "    .colab-df-convert {\n",
              "      background-color: #E8F0FE;\n",
              "      border: none;\n",
              "      border-radius: 50%;\n",
              "      cursor: pointer;\n",
              "      display: none;\n",
              "      fill: #1967D2;\n",
              "      height: 32px;\n",
              "      padding: 0 0 0 0;\n",
              "      width: 32px;\n",
              "    }\n",
              "\n",
              "    .colab-df-convert:hover {\n",
              "      background-color: #E2EBFA;\n",
              "      box-shadow: 0px 1px 2px rgba(60, 64, 67, 0.3), 0px 1px 3px 1px rgba(60, 64, 67, 0.15);\n",
              "      fill: #174EA6;\n",
              "    }\n",
              "\n",
              "    [theme=dark] .colab-df-convert {\n",
              "      background-color: #3B4455;\n",
              "      fill: #D2E3FC;\n",
              "    }\n",
              "\n",
              "    [theme=dark] .colab-df-convert:hover {\n",
              "      background-color: #434B5C;\n",
              "      box-shadow: 0px 1px 3px 1px rgba(0, 0, 0, 0.15);\n",
              "      filter: drop-shadow(0px 1px 2px rgba(0, 0, 0, 0.3));\n",
              "      fill: #FFFFFF;\n",
              "    }\n",
              "  </style>\n",
              "\n",
              "      <script>\n",
              "        const buttonEl =\n",
              "          document.querySelector('#df-a28dbcfa-ad2b-422b-bb89-567b352bdb0c button.colab-df-convert');\n",
              "        buttonEl.style.display =\n",
              "          google.colab.kernel.accessAllowed ? 'block' : 'none';\n",
              "\n",
              "        async function convertToInteractive(key) {\n",
              "          const element = document.querySelector('#df-a28dbcfa-ad2b-422b-bb89-567b352bdb0c');\n",
              "          const dataTable =\n",
              "            await google.colab.kernel.invokeFunction('convertToInteractive',\n",
              "                                                     [key], {});\n",
              "          if (!dataTable) return;\n",
              "\n",
              "          const docLinkHtml = 'Like what you see? Visit the ' +\n",
              "            '<a target=\"_blank\" href=https://colab.research.google.com/notebooks/data_table.ipynb>data table notebook</a>'\n",
              "            + ' to learn more about interactive tables.';\n",
              "          element.innerHTML = '';\n",
              "          dataTable['output_type'] = 'display_data';\n",
              "          await google.colab.output.renderOutput(dataTable, element);\n",
              "          const docLink = document.createElement('div');\n",
              "          docLink.innerHTML = docLinkHtml;\n",
              "          element.appendChild(docLink);\n",
              "        }\n",
              "      </script>\n",
              "    </div>\n",
              "  </div>\n",
              "  "
            ]
          },
          "metadata": {},
          "execution_count": 26
        }
      ],
      "source": [
        "data[:5]"
      ]
    },
    {
      "cell_type": "code",
      "execution_count": 27,
      "id": "865d7574",
      "metadata": {
        "deletable": false,
        "id": "865d7574",
        "outputId": "5246fc0e-ddd9-4cd6-9617-11daf2728009",
        "colab": {
          "base_uri": "https://localhost:8080/"
        }
      },
      "outputs": [
        {
          "output_type": "stream",
          "name": "stdout",
          "text": [
            "<class 'pandas.core.frame.DataFrame'>\n",
            "RangeIndex: 21525 entries, 0 to 21524\n",
            "Data columns (total 12 columns):\n",
            " #   Column            Non-Null Count  Dtype  \n",
            "---  ------            --------------  -----  \n",
            " 0   children          21525 non-null  int64  \n",
            " 1   days_employed     19351 non-null  float64\n",
            " 2   dob_years         21525 non-null  int64  \n",
            " 3   education         21525 non-null  object \n",
            " 4   education_id      21525 non-null  int64  \n",
            " 5   family_status     21525 non-null  object \n",
            " 6   family_status_id  21525 non-null  int64  \n",
            " 7   gender            21525 non-null  object \n",
            " 8   income_type       21525 non-null  object \n",
            " 9   debt              21525 non-null  int64  \n",
            " 10  total_income      19351 non-null  float64\n",
            " 11  purpose           21525 non-null  object \n",
            "dtypes: float64(2), int64(5), object(5)\n",
            "memory usage: 2.0+ MB\n"
          ]
        }
      ],
      "source": [
        "data.info()"
      ]
    },
    {
      "cell_type": "markdown",
      "id": "104a7bb1",
      "metadata": {
        "deletable": false,
        "editable": false,
        "id": "104a7bb1"
      },
      "source": [
        "## Предобработка данных"
      ]
    },
    {
      "cell_type": "markdown",
      "id": "10209d2e",
      "metadata": {
        "deletable": false,
        "editable": false,
        "id": "10209d2e"
      },
      "source": [
        "### Удаление пропусков"
      ]
    },
    {
      "cell_type": "markdown",
      "id": "0e2403f8",
      "metadata": {
        "deletable": false,
        "editable": false,
        "id": "0e2403f8"
      },
      "source": [
        "Посмотрю сколько пропусков в данных."
      ]
    },
    {
      "cell_type": "code",
      "source": [
        "pd.DataFrame(data.isna().sum().sort_values(ascending=False)).style.background_gradient('coolwarm')"
      ],
      "metadata": {
        "colab": {
          "base_uri": "https://localhost:8080/",
          "height": 421
        },
        "id": "v8XN0vMhEKPq",
        "outputId": "2684df56-0ec4-4221-ec0b-3d5f00c976a0"
      },
      "id": "v8XN0vMhEKPq",
      "execution_count": 28,
      "outputs": [
        {
          "output_type": "execute_result",
          "data": {
            "text/plain": [
              "<pandas.io.formats.style.Styler at 0x7fdb4ebe2200>"
            ],
            "text/html": [
              "<style type=\"text/css\">\n",
              "#T_3c1de_row0_col0, #T_3c1de_row1_col0 {\n",
              "  background-color: #b40426;\n",
              "  color: #f1f1f1;\n",
              "}\n",
              "#T_3c1de_row2_col0, #T_3c1de_row3_col0, #T_3c1de_row4_col0, #T_3c1de_row5_col0, #T_3c1de_row6_col0, #T_3c1de_row7_col0, #T_3c1de_row8_col0, #T_3c1de_row9_col0, #T_3c1de_row10_col0, #T_3c1de_row11_col0 {\n",
              "  background-color: #3b4cc0;\n",
              "  color: #f1f1f1;\n",
              "}\n",
              "</style>\n",
              "<table id=\"T_3c1de\" class=\"dataframe\">\n",
              "  <thead>\n",
              "    <tr>\n",
              "      <th class=\"blank level0\" >&nbsp;</th>\n",
              "      <th id=\"T_3c1de_level0_col0\" class=\"col_heading level0 col0\" >0</th>\n",
              "    </tr>\n",
              "  </thead>\n",
              "  <tbody>\n",
              "    <tr>\n",
              "      <th id=\"T_3c1de_level0_row0\" class=\"row_heading level0 row0\" >days_employed</th>\n",
              "      <td id=\"T_3c1de_row0_col0\" class=\"data row0 col0\" >2174</td>\n",
              "    </tr>\n",
              "    <tr>\n",
              "      <th id=\"T_3c1de_level0_row1\" class=\"row_heading level0 row1\" >total_income</th>\n",
              "      <td id=\"T_3c1de_row1_col0\" class=\"data row1 col0\" >2174</td>\n",
              "    </tr>\n",
              "    <tr>\n",
              "      <th id=\"T_3c1de_level0_row2\" class=\"row_heading level0 row2\" >children</th>\n",
              "      <td id=\"T_3c1de_row2_col0\" class=\"data row2 col0\" >0</td>\n",
              "    </tr>\n",
              "    <tr>\n",
              "      <th id=\"T_3c1de_level0_row3\" class=\"row_heading level0 row3\" >dob_years</th>\n",
              "      <td id=\"T_3c1de_row3_col0\" class=\"data row3 col0\" >0</td>\n",
              "    </tr>\n",
              "    <tr>\n",
              "      <th id=\"T_3c1de_level0_row4\" class=\"row_heading level0 row4\" >education</th>\n",
              "      <td id=\"T_3c1de_row4_col0\" class=\"data row4 col0\" >0</td>\n",
              "    </tr>\n",
              "    <tr>\n",
              "      <th id=\"T_3c1de_level0_row5\" class=\"row_heading level0 row5\" >education_id</th>\n",
              "      <td id=\"T_3c1de_row5_col0\" class=\"data row5 col0\" >0</td>\n",
              "    </tr>\n",
              "    <tr>\n",
              "      <th id=\"T_3c1de_level0_row6\" class=\"row_heading level0 row6\" >family_status</th>\n",
              "      <td id=\"T_3c1de_row6_col0\" class=\"data row6 col0\" >0</td>\n",
              "    </tr>\n",
              "    <tr>\n",
              "      <th id=\"T_3c1de_level0_row7\" class=\"row_heading level0 row7\" >family_status_id</th>\n",
              "      <td id=\"T_3c1de_row7_col0\" class=\"data row7 col0\" >0</td>\n",
              "    </tr>\n",
              "    <tr>\n",
              "      <th id=\"T_3c1de_level0_row8\" class=\"row_heading level0 row8\" >gender</th>\n",
              "      <td id=\"T_3c1de_row8_col0\" class=\"data row8 col0\" >0</td>\n",
              "    </tr>\n",
              "    <tr>\n",
              "      <th id=\"T_3c1de_level0_row9\" class=\"row_heading level0 row9\" >income_type</th>\n",
              "      <td id=\"T_3c1de_row9_col0\" class=\"data row9 col0\" >0</td>\n",
              "    </tr>\n",
              "    <tr>\n",
              "      <th id=\"T_3c1de_level0_row10\" class=\"row_heading level0 row10\" >debt</th>\n",
              "      <td id=\"T_3c1de_row10_col0\" class=\"data row10 col0\" >0</td>\n",
              "    </tr>\n",
              "    <tr>\n",
              "      <th id=\"T_3c1de_level0_row11\" class=\"row_heading level0 row11\" >purpose</th>\n",
              "      <td id=\"T_3c1de_row11_col0\" class=\"data row11 col0\" >0</td>\n",
              "    </tr>\n",
              "  </tbody>\n",
              "</table>\n"
            ]
          },
          "metadata": {},
          "execution_count": 28
        }
      ]
    },
    {
      "cell_type": "markdown",
      "id": "a1d138a1",
      "metadata": {
        "deletable": false,
        "editable": false,
        "id": "a1d138a1"
      },
      "source": [
        "В двух столбцах есть пропущенные значения. Один из них — `days_employed`. Пропуски в этом столбце я обработаю позже. Другой столбец с пропущенными значениями — `total_income` — хранит данные о доходах. На сумму дохода сильнее всего влияет тип занятости, поэтому заполнить пропуски в этом столбце нужно медианным значением по каждому типу из столбца `income_type`."
      ]
    },
    {
      "cell_type": "code",
      "execution_count": 29,
      "id": "1bff4f8d",
      "metadata": {
        "deletable": false,
        "id": "1bff4f8d"
      },
      "outputs": [],
      "source": [
        "for t in data['income_type'].unique():\n",
        "    data.loc[(data['income_type'] == t) & (data['total_income'].isna()), 'total_income'] = \\\n",
        "    data.loc[(data['income_type'] == t), 'total_income'].median()"
      ]
    },
    {
      "cell_type": "markdown",
      "id": "19690901",
      "metadata": {
        "deletable": false,
        "editable": false,
        "id": "19690901"
      },
      "source": [
        "### Обработка аномальных значений"
      ]
    },
    {
      "cell_type": "markdown",
      "id": "f41bba82",
      "metadata": {
        "deletable": false,
        "editable": false,
        "id": "f41bba82"
      },
      "source": [
        "В данных встречаются аномалии - отрицательное количество дней трудового стажа в столбце `days_employed`. Обработаем значения в этом столбце, заменив все отрицательные значения положительными с помощью метода `abs()`."
      ]
    },
    {
      "cell_type": "code",
      "execution_count": 30,
      "id": "70bc01b7",
      "metadata": {
        "deletable": false,
        "id": "70bc01b7"
      },
      "outputs": [],
      "source": [
        "data['days_employed'] = data['days_employed'].abs()"
      ]
    },
    {
      "cell_type": "markdown",
      "id": "bbdde9b4",
      "metadata": {
        "deletable": false,
        "editable": false,
        "id": "bbdde9b4"
      },
      "source": [
        "Выведу для каждого типа занятости медианное значение трудового стажа `days_employed` в днях:"
      ]
    },
    {
      "cell_type": "code",
      "execution_count": 31,
      "id": "d37cbfdf",
      "metadata": {
        "deletable": false,
        "id": "d37cbfdf",
        "outputId": "8182d0f0-6fd1-4bee-82d4-c6b757d5982e",
        "colab": {
          "base_uri": "https://localhost:8080/"
        }
      },
      "outputs": [
        {
          "output_type": "execute_result",
          "data": {
            "text/plain": [
              "income_type\n",
              "безработный        366413.652744\n",
              "в декрете            3296.759962\n",
              "госслужащий          2689.368353\n",
              "компаньон            1547.382223\n",
              "пенсионер          365213.306266\n",
              "предприниматель       520.848083\n",
              "сотрудник            1574.202821\n",
              "студент               578.751554\n",
              "Name: days_employed, dtype: float64"
            ]
          },
          "metadata": {},
          "execution_count": 31
        }
      ],
      "source": [
        "data.groupby('income_type')['days_employed'].agg('median')"
      ]
    },
    {
      "cell_type": "markdown",
      "id": "e214c643",
      "metadata": {
        "deletable": false,
        "editable": false,
        "id": "e214c643"
      },
      "source": [
        "У двух типов (безработные и пенсионеры) получатся аномально большие значения. Исправлять такие значения не буду, потому что эти столбцы не понадобятся мне для исследования."
      ]
    },
    {
      "cell_type": "markdown",
      "id": "a8371c9f",
      "metadata": {
        "deletable": false,
        "editable": false,
        "id": "a8371c9f"
      },
      "source": [
        "Посмотрю перечень уникальных значений столбца `children`."
      ]
    },
    {
      "cell_type": "code",
      "execution_count": 32,
      "id": "b12d5801",
      "metadata": {
        "deletable": false,
        "id": "b12d5801",
        "outputId": "b94ee89b-bd0e-451d-a44b-72b2f2646a3f",
        "colab": {
          "base_uri": "https://localhost:8080/"
        }
      },
      "outputs": [
        {
          "output_type": "execute_result",
          "data": {
            "text/plain": [
              "array([ 1,  0,  3,  2, -1,  4, 20,  5])"
            ]
          },
          "metadata": {},
          "execution_count": 32
        }
      ],
      "source": [
        "data['children'].unique()"
      ]
    },
    {
      "cell_type": "markdown",
      "id": "a3787e5e",
      "metadata": {
        "deletable": false,
        "editable": false,
        "id": "a3787e5e"
      },
      "source": [
        "В столбце `children` есть два аномальных значения. Удалю строки, в которых встречаются такие аномальные значения из датафрейма `data`."
      ]
    },
    {
      "cell_type": "code",
      "execution_count": 33,
      "id": "a081f233",
      "metadata": {
        "deletable": false,
        "id": "a081f233"
      },
      "outputs": [],
      "source": [
        "data = data[(data['children'] != -1) & (data['children'] != 20)]"
      ]
    },
    {
      "cell_type": "markdown",
      "id": "73c85971",
      "metadata": {
        "deletable": false,
        "editable": false,
        "id": "73c85971"
      },
      "source": [
        "### Удаление пропусков"
      ]
    },
    {
      "cell_type": "markdown",
      "id": "8808c440",
      "metadata": {
        "deletable": false,
        "editable": false,
        "id": "8808c440"
      },
      "source": [
        "Заполню пропуски в столбце `days_employed` медианными значениями по каждому типу занятости `income_type`."
      ]
    },
    {
      "cell_type": "code",
      "execution_count": 34,
      "id": "9cb6a261",
      "metadata": {
        "deletable": false,
        "id": "9cb6a261"
      },
      "outputs": [],
      "source": [
        "for t in data['income_type'].unique():\n",
        "    data.loc[(data['income_type'] == t) & (data['days_employed'].isna()), 'days_employed'] = \\\n",
        "    data.loc[(data['income_type'] == t), 'days_employed'].median()"
      ]
    },
    {
      "cell_type": "markdown",
      "id": "d396b268",
      "metadata": {
        "deletable": false,
        "editable": false,
        "id": "d396b268"
      },
      "source": [
        "Посмотрю все ли пропуски обработаны."
      ]
    },
    {
      "cell_type": "code",
      "execution_count": 35,
      "id": "db667e7c",
      "metadata": {
        "deletable": false,
        "id": "db667e7c",
        "outputId": "a6bcd1d8-db45-48bc-9ffa-83ab2b087d38",
        "colab": {
          "base_uri": "https://localhost:8080/"
        }
      },
      "outputs": [
        {
          "output_type": "execute_result",
          "data": {
            "text/plain": [
              "children            0\n",
              "days_employed       0\n",
              "dob_years           0\n",
              "education           0\n",
              "education_id        0\n",
              "family_status       0\n",
              "family_status_id    0\n",
              "gender              0\n",
              "income_type         0\n",
              "debt                0\n",
              "total_income        0\n",
              "purpose             0\n",
              "dtype: int64"
            ]
          },
          "metadata": {},
          "execution_count": 35
        }
      ],
      "source": [
        "data.isna().sum()"
      ]
    },
    {
      "cell_type": "markdown",
      "id": "d8207060",
      "metadata": {
        "deletable": false,
        "editable": false,
        "id": "d8207060"
      },
      "source": [
        "### Изменение типов данных"
      ]
    },
    {
      "cell_type": "markdown",
      "id": "80e354f2",
      "metadata": {
        "deletable": false,
        "editable": false,
        "id": "80e354f2"
      },
      "source": [
        "Заменю тип данных в столбце `total_income` на целочисленный с помощью метода `astype()`."
      ]
    },
    {
      "cell_type": "code",
      "execution_count": 36,
      "id": "3a0f562e",
      "metadata": {
        "deletable": false,
        "id": "3a0f562e"
      },
      "outputs": [],
      "source": [
        "data['total_income'] = data['total_income'].astype(int)"
      ]
    },
    {
      "cell_type": "markdown",
      "id": "0a9ce295",
      "metadata": {
        "deletable": false,
        "editable": false,
        "id": "0a9ce295"
      },
      "source": [
        "### Обработка дубликатов"
      ]
    },
    {
      "cell_type": "code",
      "source": [
        "data['education'].unique()"
      ],
      "metadata": {
        "colab": {
          "base_uri": "https://localhost:8080/"
        },
        "id": "-NOZTh4eHXgB",
        "outputId": "0605eeb7-353b-439c-d864-dfcb6840f7ff"
      },
      "id": "-NOZTh4eHXgB",
      "execution_count": 37,
      "outputs": [
        {
          "output_type": "execute_result",
          "data": {
            "text/plain": [
              "array(['высшее', 'среднее', 'Среднее', 'СРЕДНЕЕ', 'ВЫСШЕЕ',\n",
              "       'неоконченное высшее', 'начальное', 'Высшее',\n",
              "       'НЕОКОНЧЕННОЕ ВЫСШЕЕ', 'Неоконченное высшее', 'НАЧАЛЬНОЕ',\n",
              "       'Начальное', 'Ученая степень', 'УЧЕНАЯ СТЕПЕНЬ', 'ученая степень'],\n",
              "      dtype=object)"
            ]
          },
          "metadata": {},
          "execution_count": 37
        }
      ]
    },
    {
      "cell_type": "markdown",
      "id": "e76202a7",
      "metadata": {
        "deletable": false,
        "editable": false,
        "id": "e76202a7"
      },
      "source": [
        "В столбце `education` есть одни и те же значения, но записанные по-разному. Для обработки неявных дубликатов приведу все значения к нижнему регистру."
      ]
    },
    {
      "cell_type": "code",
      "execution_count": 38,
      "id": "c29502d1",
      "metadata": {
        "deletable": false,
        "id": "c29502d1"
      },
      "outputs": [],
      "source": [
        "data['education'] = data['education'].str.lower()"
      ]
    },
    {
      "cell_type": "markdown",
      "id": "b7df9194",
      "metadata": {
        "deletable": false,
        "editable": false,
        "id": "b7df9194"
      },
      "source": [
        "Посмотрю количество строк-дубликатов в остальных данных. Если такие строки присутствуют, удалю их."
      ]
    },
    {
      "cell_type": "code",
      "execution_count": 39,
      "id": "cccfe1b6",
      "metadata": {
        "deletable": false,
        "id": "cccfe1b6",
        "outputId": "2b3bfc26-1ed5-4af6-f2e2-57ff8d03f517",
        "colab": {
          "base_uri": "https://localhost:8080/"
        }
      },
      "outputs": [
        {
          "output_type": "execute_result",
          "data": {
            "text/plain": [
              "71"
            ]
          },
          "metadata": {},
          "execution_count": 39
        }
      ],
      "source": [
        "data.duplicated().sum()"
      ]
    },
    {
      "cell_type": "code",
      "execution_count": null,
      "id": "94bbd796",
      "metadata": {
        "deletable": false,
        "id": "94bbd796"
      },
      "outputs": [],
      "source": [
        "data = data.drop_duplicates()"
      ]
    },
    {
      "cell_type": "markdown",
      "id": "018e94c1",
      "metadata": {
        "deletable": false,
        "editable": false,
        "id": "018e94c1"
      },
      "source": [
        "### Категоризация данных"
      ]
    },
    {
      "cell_type": "markdown",
      "id": "0c9dcdee",
      "metadata": {
        "deletable": false,
        "editable": false,
        "id": "0c9dcdee"
      },
      "source": [
        "Создам в датафрейме `data` столбец `total_income_category` с категориями по зарплате:\n",
        "\n",
        "- 0–30000 — `'E'`;\n",
        "- 30001–50000 — `'D'`;\n",
        "- 50001–200000 — `'C'`;\n",
        "- 200001–1000000 — `'B'`;\n",
        "- 1000001 и выше — `'A'`."
      ]
    },
    {
      "cell_type": "code",
      "execution_count": 40,
      "id": "ed5bda15",
      "metadata": {
        "deletable": false,
        "id": "ed5bda15"
      },
      "outputs": [],
      "source": [
        "def categorize_income(income):\n",
        "    try:\n",
        "        if 0 <= income <= 30000:\n",
        "            return 'E'\n",
        "        elif 30001 <= income <= 50000:\n",
        "            return 'D'\n",
        "        elif 50001 <= income <= 200000:\n",
        "            return 'C'\n",
        "        elif 200001 <= income <= 1000000:\n",
        "            return 'B'\n",
        "        elif income >= 1000001:\n",
        "            return 'A'\n",
        "    except:\n",
        "        pass"
      ]
    },
    {
      "cell_type": "code",
      "execution_count": 41,
      "id": "9fbca429",
      "metadata": {
        "deletable": false,
        "id": "9fbca429"
      },
      "outputs": [],
      "source": [
        "data['total_income_category'] = data['total_income'].apply(categorize_income)"
      ]
    },
    {
      "cell_type": "markdown",
      "id": "78eefbbc",
      "metadata": {
        "deletable": false,
        "editable": false,
        "id": "78eefbbc"
      },
      "source": [
        "Выведу перечень уникальных целей взятия кредита из столбца `purpose`."
      ]
    },
    {
      "cell_type": "code",
      "execution_count": null,
      "id": "0b7559cd",
      "metadata": {
        "deletable": false,
        "id": "0b7559cd",
        "outputId": "673c12d9-7d7e-4ae0-9812-c622c89dd244"
      },
      "outputs": [
        {
          "data": {
            "text/plain": [
              "array(['покупка жилья', 'приобретение автомобиля',\n",
              "       'дополнительное образование', 'сыграть свадьбу',\n",
              "       'операции с жильем', 'образование', 'на проведение свадьбы',\n",
              "       'покупка жилья для семьи', 'покупка недвижимости',\n",
              "       'покупка коммерческой недвижимости', 'покупка жилой недвижимости',\n",
              "       'строительство собственной недвижимости', 'недвижимость',\n",
              "       'строительство недвижимости', 'на покупку подержанного автомобиля',\n",
              "       'на покупку своего автомобиля',\n",
              "       'операции с коммерческой недвижимостью',\n",
              "       'строительство жилой недвижимости', 'жилье',\n",
              "       'операции со своей недвижимостью', 'автомобили',\n",
              "       'заняться образованием', 'сделка с подержанным автомобилем',\n",
              "       'получение образования', 'автомобиль', 'свадьба',\n",
              "       'получение дополнительного образования', 'покупка своего жилья',\n",
              "       'операции с недвижимостью', 'получение высшего образования',\n",
              "       'свой автомобиль', 'сделка с автомобилем',\n",
              "       'профильное образование', 'высшее образование',\n",
              "       'покупка жилья для сдачи', 'на покупку автомобиля', 'ремонт жилью',\n",
              "       'заняться высшим образованием'], dtype=object)"
            ]
          },
          "execution_count": 19,
          "metadata": {},
          "output_type": "execute_result"
        }
      ],
      "source": [
        "data['purpose'].unique()"
      ]
    },
    {
      "cell_type": "markdown",
      "id": "878f0821",
      "metadata": {
        "deletable": false,
        "editable": false,
        "id": "878f0821"
      },
      "source": [
        "Создам функцию, которая на основании данных из столбца `purpose` сформирует новый столбец `purpose_category`, в который войдут следующие категории:\n",
        "\n",
        "- `'операции с автомобилем'`,\n",
        "- `'операции с недвижимостью'`,\n",
        "- `'проведение свадьбы'`,\n",
        "- `'получение образования'`."
      ]
    },
    {
      "cell_type": "code",
      "execution_count": 42,
      "id": "e2a0c011",
      "metadata": {
        "deletable": false,
        "id": "e2a0c011"
      },
      "outputs": [],
      "source": [
        "def categorize_purpose(row):\n",
        "    try:\n",
        "        if 'автом' in row:\n",
        "            return 'операции с автомобилем'\n",
        "        elif 'жил' in row or 'недвиж' in row:\n",
        "            return 'операции с недвижимостью'\n",
        "        elif 'свад' in row:\n",
        "            return 'проведение свадьбы'\n",
        "        elif 'образов' in row:\n",
        "            return 'получение образования'\n",
        "    except:\n",
        "        return 'нет категории'"
      ]
    },
    {
      "cell_type": "code",
      "execution_count": 43,
      "id": "6101930d",
      "metadata": {
        "deletable": false,
        "id": "6101930d"
      },
      "outputs": [],
      "source": [
        "data['purpose_category'] = data['purpose'].apply(categorize_purpose)"
      ]
    },
    {
      "cell_type": "markdown",
      "id": "6caf0859",
      "metadata": {
        "deletable": false,
        "editable": false,
        "id": "6caf0859"
      },
      "source": [
        "# Исследование данных и ответы на вопросы"
      ]
    },
    {
      "cell_type": "markdown",
      "id": "ecb6a10a",
      "metadata": {
        "deletable": false,
        "editable": false,
        "id": "ecb6a10a"
      },
      "source": [
        "### Есть ли зависимость между количеством детей и возвратом кредита в срок?"
      ]
    },
    {
      "cell_type": "code",
      "source": [
        "import seaborn as sns\n",
        "import matplotlib.pyplot as plt"
      ],
      "metadata": {
        "id": "DoNvTydeJil9"
      },
      "id": "DoNvTydeJil9",
      "execution_count": 56,
      "outputs": []
    },
    {
      "cell_type": "code",
      "execution_count": 60,
      "id": "0d5ee57f",
      "metadata": {
        "deletable": false,
        "id": "0d5ee57f",
        "colab": {
          "base_uri": "https://localhost:8080/",
          "height": 645
        },
        "outputId": "19af7143-888e-47ce-c949-1248e2f55b7f"
      },
      "outputs": [
        {
          "output_type": "display_data",
          "data": {
            "text/plain": [
              "debt amount_child      0     1  debt_share\n",
              "0               0  13086  1063    0.075129\n",
              "1               1   4374   444    0.092154\n",
              "2               2   1861   194    0.094404\n",
              "3       3 и более    349    31    0.081579"
            ],
            "text/html": [
              "\n",
              "  <div id=\"df-0e53c8e9-d40a-41b5-b67f-e8a772cf9a4b\">\n",
              "    <div class=\"colab-df-container\">\n",
              "      <div>\n",
              "<style scoped>\n",
              "    .dataframe tbody tr th:only-of-type {\n",
              "        vertical-align: middle;\n",
              "    }\n",
              "\n",
              "    .dataframe tbody tr th {\n",
              "        vertical-align: top;\n",
              "    }\n",
              "\n",
              "    .dataframe thead th {\n",
              "        text-align: right;\n",
              "    }\n",
              "</style>\n",
              "<table border=\"1\" class=\"dataframe\">\n",
              "  <thead>\n",
              "    <tr style=\"text-align: right;\">\n",
              "      <th>debt</th>\n",
              "      <th>amount_child</th>\n",
              "      <th>0</th>\n",
              "      <th>1</th>\n",
              "      <th>debt_share</th>\n",
              "    </tr>\n",
              "  </thead>\n",
              "  <tbody>\n",
              "    <tr>\n",
              "      <th>0</th>\n",
              "      <td>0</td>\n",
              "      <td>13086</td>\n",
              "      <td>1063</td>\n",
              "      <td>0.075129</td>\n",
              "    </tr>\n",
              "    <tr>\n",
              "      <th>1</th>\n",
              "      <td>1</td>\n",
              "      <td>4374</td>\n",
              "      <td>444</td>\n",
              "      <td>0.092154</td>\n",
              "    </tr>\n",
              "    <tr>\n",
              "      <th>2</th>\n",
              "      <td>2</td>\n",
              "      <td>1861</td>\n",
              "      <td>194</td>\n",
              "      <td>0.094404</td>\n",
              "    </tr>\n",
              "    <tr>\n",
              "      <th>3</th>\n",
              "      <td>3 и более</td>\n",
              "      <td>349</td>\n",
              "      <td>31</td>\n",
              "      <td>0.081579</td>\n",
              "    </tr>\n",
              "  </tbody>\n",
              "</table>\n",
              "</div>\n",
              "      <button class=\"colab-df-convert\" onclick=\"convertToInteractive('df-0e53c8e9-d40a-41b5-b67f-e8a772cf9a4b')\"\n",
              "              title=\"Convert this dataframe to an interactive table.\"\n",
              "              style=\"display:none;\">\n",
              "        \n",
              "  <svg xmlns=\"http://www.w3.org/2000/svg\" height=\"24px\"viewBox=\"0 0 24 24\"\n",
              "       width=\"24px\">\n",
              "    <path d=\"M0 0h24v24H0V0z\" fill=\"none\"/>\n",
              "    <path d=\"M18.56 5.44l.94 2.06.94-2.06 2.06-.94-2.06-.94-.94-2.06-.94 2.06-2.06.94zm-11 1L8.5 8.5l.94-2.06 2.06-.94-2.06-.94L8.5 2.5l-.94 2.06-2.06.94zm10 10l.94 2.06.94-2.06 2.06-.94-2.06-.94-.94-2.06-.94 2.06-2.06.94z\"/><path d=\"M17.41 7.96l-1.37-1.37c-.4-.4-.92-.59-1.43-.59-.52 0-1.04.2-1.43.59L10.3 9.45l-7.72 7.72c-.78.78-.78 2.05 0 2.83L4 21.41c.39.39.9.59 1.41.59.51 0 1.02-.2 1.41-.59l7.78-7.78 2.81-2.81c.8-.78.8-2.07 0-2.86zM5.41 20L4 18.59l7.72-7.72 1.47 1.35L5.41 20z\"/>\n",
              "  </svg>\n",
              "      </button>\n",
              "      \n",
              "  <style>\n",
              "    .colab-df-container {\n",
              "      display:flex;\n",
              "      flex-wrap:wrap;\n",
              "      gap: 12px;\n",
              "    }\n",
              "\n",
              "    .colab-df-convert {\n",
              "      background-color: #E8F0FE;\n",
              "      border: none;\n",
              "      border-radius: 50%;\n",
              "      cursor: pointer;\n",
              "      display: none;\n",
              "      fill: #1967D2;\n",
              "      height: 32px;\n",
              "      padding: 0 0 0 0;\n",
              "      width: 32px;\n",
              "    }\n",
              "\n",
              "    .colab-df-convert:hover {\n",
              "      background-color: #E2EBFA;\n",
              "      box-shadow: 0px 1px 2px rgba(60, 64, 67, 0.3), 0px 1px 3px 1px rgba(60, 64, 67, 0.15);\n",
              "      fill: #174EA6;\n",
              "    }\n",
              "\n",
              "    [theme=dark] .colab-df-convert {\n",
              "      background-color: #3B4455;\n",
              "      fill: #D2E3FC;\n",
              "    }\n",
              "\n",
              "    [theme=dark] .colab-df-convert:hover {\n",
              "      background-color: #434B5C;\n",
              "      box-shadow: 0px 1px 3px 1px rgba(0, 0, 0, 0.15);\n",
              "      filter: drop-shadow(0px 1px 2px rgba(0, 0, 0, 0.3));\n",
              "      fill: #FFFFFF;\n",
              "    }\n",
              "  </style>\n",
              "\n",
              "      <script>\n",
              "        const buttonEl =\n",
              "          document.querySelector('#df-0e53c8e9-d40a-41b5-b67f-e8a772cf9a4b button.colab-df-convert');\n",
              "        buttonEl.style.display =\n",
              "          google.colab.kernel.accessAllowed ? 'block' : 'none';\n",
              "\n",
              "        async function convertToInteractive(key) {\n",
              "          const element = document.querySelector('#df-0e53c8e9-d40a-41b5-b67f-e8a772cf9a4b');\n",
              "          const dataTable =\n",
              "            await google.colab.kernel.invokeFunction('convertToInteractive',\n",
              "                                                     [key], {});\n",
              "          if (!dataTable) return;\n",
              "\n",
              "          const docLinkHtml = 'Like what you see? Visit the ' +\n",
              "            '<a target=\"_blank\" href=https://colab.research.google.com/notebooks/data_table.ipynb>data table notebook</a>'\n",
              "            + ' to learn more about interactive tables.';\n",
              "          element.innerHTML = '';\n",
              "          dataTable['output_type'] = 'display_data';\n",
              "          await google.colab.output.renderOutput(dataTable, element);\n",
              "          const docLink = document.createElement('div');\n",
              "          docLink.innerHTML = docLinkHtml;\n",
              "          element.appendChild(docLink);\n",
              "        }\n",
              "      </script>\n",
              "    </div>\n",
              "  </div>\n",
              "  "
            ]
          },
          "metadata": {}
        },
        {
          "output_type": "stream",
          "name": "stdout",
          "text": [
            "\n"
          ]
        },
        {
          "output_type": "display_data",
          "data": {
            "text/plain": [
              "<Figure size 640x480 with 1 Axes>"
            ],
            "image/png": "[encoded data removed]"
          },
          "metadata": {}
        }
      ],
      "source": [
        "# создам функцию, которая обьединяет в группу людей, имеющих более трех детей\n",
        "def amount_children(child):\n",
        "    if child == 0:\n",
        "        return '0'\n",
        "    elif child == 1:\n",
        "        return '1'\n",
        "    elif child == 2:\n",
        "        return '2'\n",
        "    elif child >= 3:\n",
        "        return '3 и более'\n",
        "\n",
        "# создам столбец amount_child с новыми категориями количества детей\n",
        "data['amount_child'] = data['children'].apply(amount_children)\n",
        "\n",
        "#делаю сводную таблицу, которую группируем по количеству детей по значениям задолженности debt\n",
        "#функцией count считаю количество людей, платящих в срок (столбец 0) и людей, у кого задолженность была(столбец 1)\n",
        "debt_child = data.pivot_table(index='amount_child', columns='debt', values='purpose', aggfunc='count') \\\n",
        "                            .reset_index()\n",
        "\n",
        "#добавляю столбец, в котором рассчитаю долю людей, имеющих задолженность по кредитам\n",
        "debt_child['debt_share'] = debt_child[1] / (debt_child[0] + debt_child[1])\n",
        "display(debt_child)\n",
        "print()\n",
        "\n",
        "# строю столбчатую диаграмму, где по оси X будет количество детей, а по Y доля должников\n",
        "ax = sns.barplot(debt_child, x='amount_child', y='debt_share')\n",
        "ax.set(xlabel='Количество детей', ylabel='Доля должников', \n",
        "       title='Количество должников в зависимости от количества детей')\n",
        "plt.show()"
      ]
    },
    {
      "cell_type": "markdown",
      "id": "b734457b",
      "metadata": {
        "deletable": false,
        "id": "b734457b"
      },
      "source": [
        "**Вывод:** \n",
        "Как и ожидалось, кредит в срок чаще возвращают люди, не имеющие детей (это 92,5%).\n",
        "\n",
        "А вот среди людей, имеющих детей оказалось, что многодетные даже реже пропускают выплаты в срок (8%), чем другие категории, имеющие детей. Но выборка многодетных в 15 раз меньше, чем выборка с 1 и 2 детьми.\n",
        "\n",
        "Больше всего риск пропустить выплату по кредиту в срок у людей с одним и двумя детьми. Это примерно по 9% от общего числа заемщиков в соответсвующей категории."
      ]
    },
    {
      "cell_type": "markdown",
      "id": "8dde1c2e",
      "metadata": {
        "deletable": false,
        "editable": false,
        "id": "8dde1c2e"
      },
      "source": [
        "### Есть ли зависимость между семейным положением и возвратом кредита в срок?"
      ]
    },
    {
      "cell_type": "code",
      "execution_count": 66,
      "id": "f3764000",
      "metadata": {
        "deletable": false,
        "id": "f3764000",
        "colab": {
          "base_uri": "https://localhost:8080/",
          "height": 793
        },
        "outputId": "162348fb-a21f-4dfc-8851-dcee05f9a2d0"
      },
      "outputs": [
        {
          "output_type": "display_data",
          "data": {
            "text/plain": [
              "debt          family_status      0    1  share_debt\n",
              "0     Не женат / не замужем   2526  273    0.097535\n",
              "1                 в разводе   1105   84    0.070648\n",
              "2            вдовец / вдова    889   63    0.066176\n",
              "3          гражданский брак   3775  385    0.092548\n",
              "4           женат / замужем  11375  927    0.075354"
            ],
            "text/html": [
              "\n",
              "  <div id=\"df-744015f6-d8f2-4675-98be-ade9cf968b92\">\n",
              "    <div class=\"colab-df-container\">\n",
              "      <div>\n",
              "<style scoped>\n",
              "    .dataframe tbody tr th:only-of-type {\n",
              "        vertical-align: middle;\n",
              "    }\n",
              "\n",
              "    .dataframe tbody tr th {\n",
              "        vertical-align: top;\n",
              "    }\n",
              "\n",
              "    .dataframe thead th {\n",
              "        text-align: right;\n",
              "    }\n",
              "</style>\n",
              "<table border=\"1\" class=\"dataframe\">\n",
              "  <thead>\n",
              "    <tr style=\"text-align: right;\">\n",
              "      <th>debt</th>\n",
              "      <th>family_status</th>\n",
              "      <th>0</th>\n",
              "      <th>1</th>\n",
              "      <th>share_debt</th>\n",
              "    </tr>\n",
              "  </thead>\n",
              "  <tbody>\n",
              "    <tr>\n",
              "      <th>0</th>\n",
              "      <td>Не женат / не замужем</td>\n",
              "      <td>2526</td>\n",
              "      <td>273</td>\n",
              "      <td>0.097535</td>\n",
              "    </tr>\n",
              "    <tr>\n",
              "      <th>1</th>\n",
              "      <td>в разводе</td>\n",
              "      <td>1105</td>\n",
              "      <td>84</td>\n",
              "      <td>0.070648</td>\n",
              "    </tr>\n",
              "    <tr>\n",
              "      <th>2</th>\n",
              "      <td>вдовец / вдова</td>\n",
              "      <td>889</td>\n",
              "      <td>63</td>\n",
              "      <td>0.066176</td>\n",
              "    </tr>\n",
              "    <tr>\n",
              "      <th>3</th>\n",
              "      <td>гражданский брак</td>\n",
              "      <td>3775</td>\n",
              "      <td>385</td>\n",
              "      <td>0.092548</td>\n",
              "    </tr>\n",
              "    <tr>\n",
              "      <th>4</th>\n",
              "      <td>женат / замужем</td>\n",
              "      <td>11375</td>\n",
              "      <td>927</td>\n",
              "      <td>0.075354</td>\n",
              "    </tr>\n",
              "  </tbody>\n",
              "</table>\n",
              "</div>\n",
              "      <button class=\"colab-df-convert\" onclick=\"convertToInteractive('df-744015f6-d8f2-4675-98be-ade9cf968b92')\"\n",
              "              title=\"Convert this dataframe to an interactive table.\"\n",
              "              style=\"display:none;\">\n",
              "        \n",
              "  <svg xmlns=\"http://www.w3.org/2000/svg\" height=\"24px\"viewBox=\"0 0 24 24\"\n",
              "       width=\"24px\">\n",
              "    <path d=\"M0 0h24v24H0V0z\" fill=\"none\"/>\n",
              "    <path d=\"M18.56 5.44l.94 2.06.94-2.06 2.06-.94-2.06-.94-.94-2.06-.94 2.06-2.06.94zm-11 1L8.5 8.5l.94-2.06 2.06-.94-2.06-.94L8.5 2.5l-.94 2.06-2.06.94zm10 10l.94 2.06.94-2.06 2.06-.94-2.06-.94-.94-2.06-.94 2.06-2.06.94z\"/><path d=\"M17.41 7.96l-1.37-1.37c-.4-.4-.92-.59-1.43-.59-.52 0-1.04.2-1.43.59L10.3 9.45l-7.72 7.72c-.78.78-.78 2.05 0 2.83L4 21.41c.39.39.9.59 1.41.59.51 0 1.02-.2 1.41-.59l7.78-7.78 2.81-2.81c.8-.78.8-2.07 0-2.86zM5.41 20L4 18.59l7.72-7.72 1.47 1.35L5.41 20z\"/>\n",
              "  </svg>\n",
              "      </button>\n",
              "      \n",
              "  <style>\n",
              "    .colab-df-container {\n",
              "      display:flex;\n",
              "      flex-wrap:wrap;\n",
              "      gap: 12px;\n",
              "    }\n",
              "\n",
              "    .colab-df-convert {\n",
              "      background-color: #E8F0FE;\n",
              "      border: none;\n",
              "      border-radius: 50%;\n",
              "      cursor: pointer;\n",
              "      display: none;\n",
              "      fill: #1967D2;\n",
              "      height: 32px;\n",
              "      padding: 0 0 0 0;\n",
              "      width: 32px;\n",
              "    }\n",
              "\n",
              "    .colab-df-convert:hover {\n",
              "      background-color: #E2EBFA;\n",
              "      box-shadow: 0px 1px 2px rgba(60, 64, 67, 0.3), 0px 1px 3px 1px rgba(60, 64, 67, 0.15);\n",
              "      fill: #174EA6;\n",
              "    }\n",
              "\n",
              "    [theme=dark] .colab-df-convert {\n",
              "      background-color: #3B4455;\n",
              "      fill: #D2E3FC;\n",
              "    }\n",
              "\n",
              "    [theme=dark] .colab-df-convert:hover {\n",
              "      background-color: #434B5C;\n",
              "      box-shadow: 0px 1px 3px 1px rgba(0, 0, 0, 0.15);\n",
              "      filter: drop-shadow(0px 1px 2px rgba(0, 0, 0, 0.3));\n",
              "      fill: #FFFFFF;\n",
              "    }\n",
              "  </style>\n",
              "\n",
              "      <script>\n",
              "        const buttonEl =\n",
              "          document.querySelector('#df-744015f6-d8f2-4675-98be-ade9cf968b92 button.colab-df-convert');\n",
              "        buttonEl.style.display =\n",
              "          google.colab.kernel.accessAllowed ? 'block' : 'none';\n",
              "\n",
              "        async function convertToInteractive(key) {\n",
              "          const element = document.querySelector('#df-744015f6-d8f2-4675-98be-ade9cf968b92');\n",
              "          const dataTable =\n",
              "            await google.colab.kernel.invokeFunction('convertToInteractive',\n",
              "                                                     [key], {});\n",
              "          if (!dataTable) return;\n",
              "\n",
              "          const docLinkHtml = 'Like what you see? Visit the ' +\n",
              "            '<a target=\"_blank\" href=https://colab.research.google.com/notebooks/data_table.ipynb>data table notebook</a>'\n",
              "            + ' to learn more about interactive tables.';\n",
              "          element.innerHTML = '';\n",
              "          dataTable['output_type'] = 'display_data';\n",
              "          await google.colab.output.renderOutput(dataTable, element);\n",
              "          const docLink = document.createElement('div');\n",
              "          docLink.innerHTML = docLinkHtml;\n",
              "          element.appendChild(docLink);\n",
              "        }\n",
              "      </script>\n",
              "    </div>\n",
              "  </div>\n",
              "  "
            ]
          },
          "metadata": {}
        },
        {
          "output_type": "stream",
          "name": "stdout",
          "text": [
            "\n"
          ]
        },
        {
          "output_type": "display_data",
          "data": {
            "text/plain": [
              "<Figure size 640x480 with 1 Axes>"
            ],
            "image/png": "[encoded data removed]"
          },
          "metadata": {}
        }
      ],
      "source": [
        "#строю сводную таблицу, сгрупированную по столбцу с семейным положением и значениям о задолженности по выплатам\n",
        "#к значениям применю функцию count, для подсчета количества людей в каждой категории\n",
        "debt_family = data.pivot_table(index='family_status', columns='debt', values='purpose', aggfunc='count')\\\n",
        "                              .reset_index()\n",
        "\n",
        "#добавляю столбец share_debt, в который добавлю рассчет доли должников\n",
        "debt_family['share_debt'] = debt_family[1] / (debt_family[0] + debt_family[1])\n",
        "display(debt_family)\n",
        "print()\n",
        "\n",
        "#строю столбчатую диаграмму, ось X - семейное положение, Y - доля должников\n",
        "ax = sns.barplot(debt_family, x = 'family_status', y = 'share_debt')\n",
        "ax.set(xlabel='Семейное положение', ylabel='Доля должников', \n",
        "       title='Количество должников в зависимости от семейного положения')\n",
        "plt.xticks(rotation=45)\n",
        "plt.show()"
      ]
    },
    {
      "cell_type": "markdown",
      "id": "2783b439",
      "metadata": {
        "deletable": false,
        "id": "2783b439"
      },
      "source": [
        "**Вывод:** \n",
        "Чаще всего (в 9-10% случаев) пропускают выплату в срок люди, которые никогда не были в официальном браке. Это категории не женат/не замужем и гражданский брак.\n",
        "\n",
        "Реже пропустят выплаты те, кто женат/замужем (7,5%) и те, кто находится в разводе (7%).\n",
        "\n",
        "Самые пунктуальные при возврате кредита это вдовец/вдова, из них заплатят в срок 94% людей.\n",
        "\n",
        "Более своевременная выплата кредитов последних трех категорий может быть связана с государственной поддержкой, как молодых семей, так и одиноких родителей, которая часто заключается в более выгодных условиях кредитования. Также может отражаться более ответственный подход и размеренное устройство жизни, состоящих/состоявших в официальном браке людей."
      ]
    },
    {
      "cell_type": "markdown",
      "id": "845c7507",
      "metadata": {
        "deletable": false,
        "editable": false,
        "id": "845c7507"
      },
      "source": [
        "### Есть ли зависимость между уровнем дохода и возвратом кредита в срок?"
      ]
    },
    {
      "cell_type": "code",
      "execution_count": 72,
      "id": "d5f82f6b",
      "metadata": {
        "deletable": false,
        "id": "d5f82f6b",
        "colab": {
          "base_uri": "https://localhost:8080/",
          "height": 645
        },
        "outputId": "48003ffa-0215-4731-fd0a-793810d57c64"
      },
      "outputs": [
        {
          "output_type": "display_data",
          "data": {
            "text/plain": [
              "  income_category  debt                 \n",
              "                    sum  count      mean\n",
              "0            A, B   356   5039  0.070649\n",
              "1               C  1353  15992  0.084605\n",
              "2            D, E    23    371  0.061995"
            ],
            "text/html": [
              "\n",
              "  <div id=\"df-cde7f47a-c285-4067-a14c-666ad6379a92\">\n",
              "    <div class=\"colab-df-container\">\n",
              "      <div>\n",
              "<style scoped>\n",
              "    .dataframe tbody tr th:only-of-type {\n",
              "        vertical-align: middle;\n",
              "    }\n",
              "\n",
              "    .dataframe tbody tr th {\n",
              "        vertical-align: top;\n",
              "    }\n",
              "\n",
              "    .dataframe thead tr th {\n",
              "        text-align: left;\n",
              "    }\n",
              "</style>\n",
              "<table border=\"1\" class=\"dataframe\">\n",
              "  <thead>\n",
              "    <tr>\n",
              "      <th></th>\n",
              "      <th>income_category</th>\n",
              "      <th colspan=\"3\" halign=\"left\">debt</th>\n",
              "    </tr>\n",
              "    <tr>\n",
              "      <th></th>\n",
              "      <th></th>\n",
              "      <th>sum</th>\n",
              "      <th>count</th>\n",
              "      <th>mean</th>\n",
              "    </tr>\n",
              "  </thead>\n",
              "  <tbody>\n",
              "    <tr>\n",
              "      <th>0</th>\n",
              "      <td>A, B</td>\n",
              "      <td>356</td>\n",
              "      <td>5039</td>\n",
              "      <td>0.070649</td>\n",
              "    </tr>\n",
              "    <tr>\n",
              "      <th>1</th>\n",
              "      <td>C</td>\n",
              "      <td>1353</td>\n",
              "      <td>15992</td>\n",
              "      <td>0.084605</td>\n",
              "    </tr>\n",
              "    <tr>\n",
              "      <th>2</th>\n",
              "      <td>D, E</td>\n",
              "      <td>23</td>\n",
              "      <td>371</td>\n",
              "      <td>0.061995</td>\n",
              "    </tr>\n",
              "  </tbody>\n",
              "</table>\n",
              "</div>\n",
              "      <button class=\"colab-df-convert\" onclick=\"convertToInteractive('df-cde7f47a-c285-4067-a14c-666ad6379a92')\"\n",
              "              title=\"Convert this dataframe to an interactive table.\"\n",
              "              style=\"display:none;\">\n",
              "        \n",
              "  <svg xmlns=\"http://www.w3.org/2000/svg\" height=\"24px\"viewBox=\"0 0 24 24\"\n",
              "       width=\"24px\">\n",
              "    <path d=\"M0 0h24v24H0V0z\" fill=\"none\"/>\n",
              "    <path d=\"M18.56 5.44l.94 2.06.94-2.06 2.06-.94-2.06-.94-.94-2.06-.94 2.06-2.06.94zm-11 1L8.5 8.5l.94-2.06 2.06-.94-2.06-.94L8.5 2.5l-.94 2.06-2.06.94zm10 10l.94 2.06.94-2.06 2.06-.94-2.06-.94-.94-2.06-.94 2.06-2.06.94z\"/><path d=\"M17.41 7.96l-1.37-1.37c-.4-.4-.92-.59-1.43-.59-.52 0-1.04.2-1.43.59L10.3 9.45l-7.72 7.72c-.78.78-.78 2.05 0 2.83L4 21.41c.39.39.9.59 1.41.59.51 0 1.02-.2 1.41-.59l7.78-7.78 2.81-2.81c.8-.78.8-2.07 0-2.86zM5.41 20L4 18.59l7.72-7.72 1.47 1.35L5.41 20z\"/>\n",
              "  </svg>\n",
              "      </button>\n",
              "      \n",
              "  <style>\n",
              "    .colab-df-container {\n",
              "      display:flex;\n",
              "      flex-wrap:wrap;\n",
              "      gap: 12px;\n",
              "    }\n",
              "\n",
              "    .colab-df-convert {\n",
              "      background-color: #E8F0FE;\n",
              "      border: none;\n",
              "      border-radius: 50%;\n",
              "      cursor: pointer;\n",
              "      display: none;\n",
              "      fill: #1967D2;\n",
              "      height: 32px;\n",
              "      padding: 0 0 0 0;\n",
              "      width: 32px;\n",
              "    }\n",
              "\n",
              "    .colab-df-convert:hover {\n",
              "      background-color: #E2EBFA;\n",
              "      box-shadow: 0px 1px 2px rgba(60, 64, 67, 0.3), 0px 1px 3px 1px rgba(60, 64, 67, 0.15);\n",
              "      fill: #174EA6;\n",
              "    }\n",
              "\n",
              "    [theme=dark] .colab-df-convert {\n",
              "      background-color: #3B4455;\n",
              "      fill: #D2E3FC;\n",
              "    }\n",
              "\n",
              "    [theme=dark] .colab-df-convert:hover {\n",
              "      background-color: #434B5C;\n",
              "      box-shadow: 0px 1px 3px 1px rgba(0, 0, 0, 0.15);\n",
              "      filter: drop-shadow(0px 1px 2px rgba(0, 0, 0, 0.3));\n",
              "      fill: #FFFFFF;\n",
              "    }\n",
              "  </style>\n",
              "\n",
              "      <script>\n",
              "        const buttonEl =\n",
              "          document.querySelector('#df-cde7f47a-c285-4067-a14c-666ad6379a92 button.colab-df-convert');\n",
              "        buttonEl.style.display =\n",
              "          google.colab.kernel.accessAllowed ? 'block' : 'none';\n",
              "\n",
              "        async function convertToInteractive(key) {\n",
              "          const element = document.querySelector('#df-cde7f47a-c285-4067-a14c-666ad6379a92');\n",
              "          const dataTable =\n",
              "            await google.colab.kernel.invokeFunction('convertToInteractive',\n",
              "                                                     [key], {});\n",
              "          if (!dataTable) return;\n",
              "\n",
              "          const docLinkHtml = 'Like what you see? Visit the ' +\n",
              "            '<a target=\"_blank\" href=https://colab.research.google.com/notebooks/data_table.ipynb>data table notebook</a>'\n",
              "            + ' to learn more about interactive tables.';\n",
              "          element.innerHTML = '';\n",
              "          dataTable['output_type'] = 'display_data';\n",
              "          await google.colab.output.renderOutput(dataTable, element);\n",
              "          const docLink = document.createElement('div');\n",
              "          docLink.innerHTML = docLinkHtml;\n",
              "          element.appendChild(docLink);\n",
              "        }\n",
              "      </script>\n",
              "    </div>\n",
              "  </div>\n",
              "  "
            ]
          },
          "metadata": {}
        },
        {
          "output_type": "stream",
          "name": "stdout",
          "text": [
            "\n"
          ]
        },
        {
          "output_type": "display_data",
          "data": {
            "text/plain": [
              "<Figure size 640x480 with 1 Axes>"
            ],
            "image/png": "[encoded data removed]"
          },
          "metadata": {}
        }
      ],
      "source": [
        "# создаю функцию, которая обьединет в группу людей, имеющих самые высокие и самые низкие доходы\n",
        "def income(category):\n",
        "    if category == 'A' or category == 'B':\n",
        "        return 'A, B'\n",
        "    elif category == 'D' or category == 'E':\n",
        "        return 'D, E'\n",
        "    elif category == 'C':\n",
        "        return 'C'\n",
        "# создаю столбец income_category с объединенными категориями уровня дохода\n",
        "data['income_category'] = data['total_income_category'].apply(income)\n",
        "\n",
        "#строю таблицу, сгрупированную по столбцу с категориями уровня дохода\n",
        "#к столбцу с задолженностями применю функции count, sum, mean\n",
        "debt_income = data.groupby('income_category').agg({'debt': ['sum', 'count', 'mean']}).reset_index()\n",
        "display(debt_income)\n",
        "print()\n",
        "\n",
        "#строим столбчатую диаграмму, используя библиотеку seaborn\n",
        "#ось X - категории по уровням дохода, Y - доля должников\n",
        "ax = seaborn.barplot(x=debt_income['income_category'], y=debt_income['debt']['mean'])\n",
        "ax.set(xlabel='Категории по уровням дохода', ylabel='Доля должников', \n",
        "       title='Количество должников в зависимости от дохода')\n",
        "plt.show()"
      ]
    },
    {
      "cell_type": "markdown",
      "id": "a3d24e3f",
      "metadata": {
        "deletable": false,
        "id": "a3d24e3f"
      },
      "source": [
        "**Вывод:** \n",
        "Люди с самым низким доходом (до 50.000 руб) являются самыми пунктуальными плательщиками, но они и берут кредиты в десятки раз реже.\n",
        "\n",
        "Те, кто зарабатывают от 50 до 200 тысяч рублей чаще всего пропускают срок погшения кредита (8,5% выплат).\n",
        "\n",
        "Люди с высокими доходами пропустят выплату в 7% случаев."
      ]
    },
    {
      "cell_type": "markdown",
      "id": "e93d4234",
      "metadata": {
        "deletable": false,
        "editable": false,
        "id": "e93d4234"
      },
      "source": [
        "### Как разные цели кредита влияют на его возврат в срок?"
      ]
    },
    {
      "cell_type": "code",
      "execution_count": 74,
      "id": "607e2ade",
      "metadata": {
        "deletable": false,
        "id": "607e2ade",
        "colab": {
          "base_uri": "https://localhost:8080/",
          "height": 788
        },
        "outputId": "bc59419e-0cfc-4db9-8e0f-4d27c1c0f6a9"
      },
      "outputs": [
        {
          "output_type": "display_data",
          "data": {
            "text/plain": [
              "debt          purpose_category      0    1  share_debt\n",
              "0       операции с автомобилем   3888  400    0.093284\n",
              "1     операции с недвижимостью  10000  780    0.072356\n",
              "2        получение образования   3628  369    0.092319\n",
              "3           проведение свадьбы   2154  183    0.078306"
            ],
            "text/html": [
              "\n",
              "  <div id=\"df-b9b3e744-8058-4d7a-8043-8c979962bd1e\">\n",
              "    <div class=\"colab-df-container\">\n",
              "      <div>\n",
              "<style scoped>\n",
              "    .dataframe tbody tr th:only-of-type {\n",
              "        vertical-align: middle;\n",
              "    }\n",
              "\n",
              "    .dataframe tbody tr th {\n",
              "        vertical-align: top;\n",
              "    }\n",
              "\n",
              "    .dataframe thead th {\n",
              "        text-align: right;\n",
              "    }\n",
              "</style>\n",
              "<table border=\"1\" class=\"dataframe\">\n",
              "  <thead>\n",
              "    <tr style=\"text-align: right;\">\n",
              "      <th>debt</th>\n",
              "      <th>purpose_category</th>\n",
              "      <th>0</th>\n",
              "      <th>1</th>\n",
              "      <th>share_debt</th>\n",
              "    </tr>\n",
              "  </thead>\n",
              "  <tbody>\n",
              "    <tr>\n",
              "      <th>0</th>\n",
              "      <td>операции с автомобилем</td>\n",
              "      <td>3888</td>\n",
              "      <td>400</td>\n",
              "      <td>0.093284</td>\n",
              "    </tr>\n",
              "    <tr>\n",
              "      <th>1</th>\n",
              "      <td>операции с недвижимостью</td>\n",
              "      <td>10000</td>\n",
              "      <td>780</td>\n",
              "      <td>0.072356</td>\n",
              "    </tr>\n",
              "    <tr>\n",
              "      <th>2</th>\n",
              "      <td>получение образования</td>\n",
              "      <td>3628</td>\n",
              "      <td>369</td>\n",
              "      <td>0.092319</td>\n",
              "    </tr>\n",
              "    <tr>\n",
              "      <th>3</th>\n",
              "      <td>проведение свадьбы</td>\n",
              "      <td>2154</td>\n",
              "      <td>183</td>\n",
              "      <td>0.078306</td>\n",
              "    </tr>\n",
              "  </tbody>\n",
              "</table>\n",
              "</div>\n",
              "      <button class=\"colab-df-convert\" onclick=\"convertToInteractive('df-b9b3e744-8058-4d7a-8043-8c979962bd1e')\"\n",
              "              title=\"Convert this dataframe to an interactive table.\"\n",
              "              style=\"display:none;\">\n",
              "        \n",
              "  <svg xmlns=\"http://www.w3.org/2000/svg\" height=\"24px\"viewBox=\"0 0 24 24\"\n",
              "       width=\"24px\">\n",
              "    <path d=\"M0 0h24v24H0V0z\" fill=\"none\"/>\n",
              "    <path d=\"M18.56 5.44l.94 2.06.94-2.06 2.06-.94-2.06-.94-.94-2.06-.94 2.06-2.06.94zm-11 1L8.5 8.5l.94-2.06 2.06-.94-2.06-.94L8.5 2.5l-.94 2.06-2.06.94zm10 10l.94 2.06.94-2.06 2.06-.94-2.06-.94-.94-2.06-.94 2.06-2.06.94z\"/><path d=\"M17.41 7.96l-1.37-1.37c-.4-.4-.92-.59-1.43-.59-.52 0-1.04.2-1.43.59L10.3 9.45l-7.72 7.72c-.78.78-.78 2.05 0 2.83L4 21.41c.39.39.9.59 1.41.59.51 0 1.02-.2 1.41-.59l7.78-7.78 2.81-2.81c.8-.78.8-2.07 0-2.86zM5.41 20L4 18.59l7.72-7.72 1.47 1.35L5.41 20z\"/>\n",
              "  </svg>\n",
              "      </button>\n",
              "      \n",
              "  <style>\n",
              "    .colab-df-container {\n",
              "      display:flex;\n",
              "      flex-wrap:wrap;\n",
              "      gap: 12px;\n",
              "    }\n",
              "\n",
              "    .colab-df-convert {\n",
              "      background-color: #E8F0FE;\n",
              "      border: none;\n",
              "      border-radius: 50%;\n",
              "      cursor: pointer;\n",
              "      display: none;\n",
              "      fill: #1967D2;\n",
              "      height: 32px;\n",
              "      padding: 0 0 0 0;\n",
              "      width: 32px;\n",
              "    }\n",
              "\n",
              "    .colab-df-convert:hover {\n",
              "      background-color: #E2EBFA;\n",
              "      box-shadow: 0px 1px 2px rgba(60, 64, 67, 0.3), 0px 1px 3px 1px rgba(60, 64, 67, 0.15);\n",
              "      fill: #174EA6;\n",
              "    }\n",
              "\n",
              "    [theme=dark] .colab-df-convert {\n",
              "      background-color: #3B4455;\n",
              "      fill: #D2E3FC;\n",
              "    }\n",
              "\n",
              "    [theme=dark] .colab-df-convert:hover {\n",
              "      background-color: #434B5C;\n",
              "      box-shadow: 0px 1px 3px 1px rgba(0, 0, 0, 0.15);\n",
              "      filter: drop-shadow(0px 1px 2px rgba(0, 0, 0, 0.3));\n",
              "      fill: #FFFFFF;\n",
              "    }\n",
              "  </style>\n",
              "\n",
              "      <script>\n",
              "        const buttonEl =\n",
              "          document.querySelector('#df-b9b3e744-8058-4d7a-8043-8c979962bd1e button.colab-df-convert');\n",
              "        buttonEl.style.display =\n",
              "          google.colab.kernel.accessAllowed ? 'block' : 'none';\n",
              "\n",
              "        async function convertToInteractive(key) {\n",
              "          const element = document.querySelector('#df-b9b3e744-8058-4d7a-8043-8c979962bd1e');\n",
              "          const dataTable =\n",
              "            await google.colab.kernel.invokeFunction('convertToInteractive',\n",
              "                                                     [key], {});\n",
              "          if (!dataTable) return;\n",
              "\n",
              "          const docLinkHtml = 'Like what you see? Visit the ' +\n",
              "            '<a target=\"_blank\" href=https://colab.research.google.com/notebooks/data_table.ipynb>data table notebook</a>'\n",
              "            + ' to learn more about interactive tables.';\n",
              "          element.innerHTML = '';\n",
              "          dataTable['output_type'] = 'display_data';\n",
              "          await google.colab.output.renderOutput(dataTable, element);\n",
              "          const docLink = document.createElement('div');\n",
              "          docLink.innerHTML = docLinkHtml;\n",
              "          element.appendChild(docLink);\n",
              "        }\n",
              "      </script>\n",
              "    </div>\n",
              "  </div>\n",
              "  "
            ]
          },
          "metadata": {}
        },
        {
          "output_type": "stream",
          "name": "stdout",
          "text": [
            "\n"
          ]
        },
        {
          "output_type": "display_data",
          "data": {
            "text/plain": [
              "<Figure size 640x480 with 1 Axes>"
            ],
            "image/png": "[encoded data removed]"
          },
          "metadata": {}
        }
      ],
      "source": [
        "#строим сводную таблицу, сгрупированную по столбцу с целями кредита и значениям о задолженности по выплатам\n",
        "#к значениям применим функцию count, для подсчета количества людей в каждой категории\n",
        "debt_purpose = data.pivot_table(index='purpose_category', columns='debt', values='purpose', aggfunc='count')\\\n",
        "                              .reset_index()\n",
        "\n",
        "#добавляем столбец share_debt, в который добавим рассчет доли должников\n",
        "debt_purpose['share_debt'] = debt_purpose[1] / (debt_purpose[0] + debt_purpose[1])\n",
        "display(debt_purpose)\n",
        "print()\n",
        "\n",
        "#строим столбчатую диаграмму, ось X - цель кредита, Y - доля должников\n",
        "ax = seaborn.barplot(debt_purpose, x='purpose_category', y='share_debt')\n",
        "ax.set(xlabel='Цель кредита', ylabel='Доля должников', \n",
        "       title='Количество должников в зависимости от целей кредита')\n",
        "plt.xticks(rotation=45)\n",
        "plt.show()"
      ]
    },
    {
      "cell_type": "markdown",
      "id": "fc29c151",
      "metadata": {
        "deletable": false,
        "id": "fc29c151"
      },
      "source": [
        "**Вывод:** \n",
        "Те, кто берет кредит на покупку недвижимости, будут в 93% платить кредит в срок. Это самый хороший показатель в данном сравнении.\n",
        "\n",
        "Немного хуже платят люди, которые берут кредит на проведение свадьбы (~8% пропустят выплату).\n",
        "\n",
        "И самые не исполнительные заемщики это студенты и автомобилисты. Просрочат платеж по кредиту 9% в каждой категории."
      ]
    },
    {
      "cell_type": "markdown",
      "id": "ced68d8f",
      "metadata": {
        "deletable": false,
        "editable": false,
        "id": "ced68d8f"
      },
      "source": [
        "### Возможные причины появления пропусков в исходных данных?"
      ]
    },
    {
      "cell_type": "markdown",
      "id": "3917d811",
      "metadata": {
        "deletable": false,
        "id": "3917d811"
      },
      "source": [
        "Вероятнее всего данные были пропущены по техническим причинам, нежели из-за человеческого фактора. \n",
        "1. Навряд ли какой то банк одобрит кредит человеку, не указывающему уровень своего дохода.\n",
        "2. Пропуски в одинаковом количестве были пропущены в столбце с зарплатой и в столбце со стажем, что указывает на ошибку, которая могла произойти в момент записи/переносе данных."
      ]
    },
    {
      "cell_type": "markdown",
      "id": "5a3ac48b",
      "metadata": {
        "deletable": false,
        "editable": false,
        "id": "5a3ac48b"
      },
      "source": [
        "### Почему заполнить пропуски медианным значением — лучшее решение для количественных переменных?"
      ]
    },
    {
      "cell_type": "markdown",
      "id": "86563e2c",
      "metadata": {
        "deletable": false,
        "id": "86563e2c"
      },
      "source": [
        "В количественных переменных могут быть аномальные значения, значения, не отражающие основную картину и являющиеся скорее исключением, чем правилом. Например, из 10 пенсионеров девять будут иметь доход в 50 т.р., а десятый 150 т.р.\n",
        "\n",
        "Поэтому, чтобы исключить смещение в ту или иную сторону, для заполнения пропусков  лучше использовать медианное значение вместо среднего арифметического."
      ]
    },
    {
      "cell_type": "markdown",
      "id": "b3cc18fb",
      "metadata": {
        "deletable": false,
        "editable": false,
        "id": "b3cc18fb"
      },
      "source": [
        "### Общий вывод"
      ]
    },
    {
      "cell_type": "markdown",
      "id": "450f8336",
      "metadata": {
        "id": "450f8336"
      },
      "source": [
        "<div style=\"border:solid blue 2px; padding: 30px\">\n",
        "\n",
        "В результате проведенного анализа выяснилось, что количество детей, уровень дохода, цель кредита и даже семейное положения влияет на возврат кредита в срок.\n",
        "    \n",
        "   Люди, не имеющие детей, пропустят срок платежа по кредиту в 7,5% случаев, в то время, как 9% людей с 1 или 2 детьми и 8% многодетных не заплатят в срок. Выборка многодетных семей гораздо меньше остальных, поэтому результат при увеличении данных может немного измениться.\n",
        "    \n",
        "    \n",
        "   Люди, с доходом ниже 50.000 руб самые пунктуальные (всего 6,2% просрочек платежа), но и кредиты они будут брать в десятки раз реже, чем люди с более высокими доходами. Те, кто зарабатыавает от 200.000 руб пропустят выплату в 7% случаев. Самые плохие показатели возврата в срок это люди со средним доходом (8,5%).\n",
        "    \n",
        "   Семейное положение влияет следующим образом: хуже всего платят люди, которые никогда не были в зарегистрированном браке (9-10% просрочек платежа); 7,5% и 7% соответсвенно приходится на тех, кто женат/замужем или в разводе; и всего 6% вдовцов заплатят позже положенного. \n",
        "    \n",
        "Самые ответсвенные плательщики по кредитам это те, кто берет их на покукупку недвижимости (7% не платят в срок). На 1% хуже показатель по кредитам, взятым на проведение свадьбы и еще на 1% хуже с выплатой кредитов на обучение и покупку автомобиля.\n",
        "</div>"
      ]
    }
  ],
  "metadata": {
    "ExecuteTimeLog": [
      {
        "duration": 1465,
        "start_time": "2022-09-15T00:46:01.599Z"
      },
      {
        "duration": 434,
        "start_time": "2022-09-15T00:46:21.355Z"
      },
      {
        "duration": 23,
        "start_time": "2022-09-15T00:46:21.790Z"
      },
      {
        "duration": 17,
        "start_time": "2022-09-15T00:46:21.815Z"
      },
      {
        "duration": 10,
        "start_time": "2022-09-15T00:46:21.834Z"
      },
      {
        "duration": 40,
        "start_time": "2022-09-15T00:46:21.846Z"
      },
      {
        "duration": 3,
        "start_time": "2022-09-15T00:46:21.888Z"
      },
      {
        "duration": 28,
        "start_time": "2022-09-15T00:46:21.893Z"
      },
      {
        "duration": 5,
        "start_time": "2022-09-15T00:46:21.923Z"
      },
      {
        "duration": 11,
        "start_time": "2022-09-15T00:46:21.929Z"
      },
      {
        "duration": 3,
        "start_time": "2022-09-15T00:46:21.943Z"
      },
      {
        "duration": 34,
        "start_time": "2022-09-15T00:46:21.948Z"
      },
      {
        "duration": 9,
        "start_time": "2022-09-15T00:46:21.984Z"
      },
      {
        "duration": 5,
        "start_time": "2022-09-15T00:46:22.021Z"
      },
      {
        "duration": 13,
        "start_time": "2022-09-15T00:46:22.027Z"
      },
      {
        "duration": 23,
        "start_time": "2022-09-15T00:46:22.042Z"
      },
      {
        "duration": 18,
        "start_time": "2022-09-15T00:46:22.067Z"
      },
      {
        "duration": 4,
        "start_time": "2022-09-15T00:46:22.087Z"
      },
      {
        "duration": 36,
        "start_time": "2022-09-15T00:46:22.092Z"
      },
      {
        "duration": 6,
        "start_time": "2022-09-15T00:46:22.129Z"
      },
      {
        "duration": 4,
        "start_time": "2022-09-15T00:46:22.136Z"
      },
      {
        "duration": 11,
        "start_time": "2022-09-15T00:46:22.141Z"
      },
      {
        "duration": 3,
        "start_time": "2022-09-15T00:46:22.153Z"
      },
      {
        "duration": 1131,
        "start_time": "2022-09-15T00:46:22.157Z"
      },
      {
        "duration": 3,
        "start_time": "2022-09-15T00:46:23.290Z"
      },
      {
        "duration": 4,
        "start_time": "2022-09-15T00:46:23.295Z"
      },
      {
        "duration": 1321,
        "start_time": "2022-09-15T06:52:09.639Z"
      },
      {
        "duration": 702,
        "start_time": "2022-09-15T06:52:31.006Z"
      },
      {
        "duration": 22,
        "start_time": "2022-09-15T06:52:31.710Z"
      },
      {
        "duration": 15,
        "start_time": "2022-09-15T06:52:31.733Z"
      },
      {
        "duration": 9,
        "start_time": "2022-09-15T06:52:31.750Z"
      },
      {
        "duration": 56,
        "start_time": "2022-09-15T06:52:31.761Z"
      },
      {
        "duration": 3,
        "start_time": "2022-09-15T06:52:31.818Z"
      },
      {
        "duration": 10,
        "start_time": "2022-09-15T06:52:31.823Z"
      },
      {
        "duration": 4,
        "start_time": "2022-09-15T06:52:31.834Z"
      },
      {
        "duration": 14,
        "start_time": "2022-09-15T06:52:31.839Z"
      },
      {
        "duration": 11,
        "start_time": "2022-09-15T06:52:31.857Z"
      },
      {
        "duration": 51,
        "start_time": "2022-09-15T06:52:31.870Z"
      },
      {
        "duration": 9,
        "start_time": "2022-09-15T06:52:31.922Z"
      },
      {
        "duration": 14,
        "start_time": "2022-09-15T06:52:31.933Z"
      },
      {
        "duration": 20,
        "start_time": "2022-09-15T06:52:31.948Z"
      },
      {
        "duration": 29,
        "start_time": "2022-09-15T06:52:31.969Z"
      },
      {
        "duration": 16,
        "start_time": "2022-09-15T06:52:31.999Z"
      },
      {
        "duration": 3,
        "start_time": "2022-09-15T06:52:32.017Z"
      },
      {
        "duration": 23,
        "start_time": "2022-09-15T06:52:32.022Z"
      },
      {
        "duration": 27,
        "start_time": "2022-09-15T06:52:32.047Z"
      },
      {
        "duration": 8,
        "start_time": "2022-09-15T06:52:32.075Z"
      },
      {
        "duration": 21,
        "start_time": "2022-09-15T06:52:32.084Z"
      },
      {
        "duration": 23,
        "start_time": "2022-09-15T06:52:32.106Z"
      },
      {
        "duration": 882,
        "start_time": "2022-09-15T06:52:32.131Z"
      },
      {
        "duration": 3,
        "start_time": "2022-09-15T06:52:33.014Z"
      },
      {
        "duration": 9,
        "start_time": "2022-09-15T06:52:33.019Z"
      },
      {
        "duration": 305,
        "start_time": "2022-09-15T06:56:13.268Z"
      },
      {
        "duration": 301,
        "start_time": "2022-09-15T06:56:29.737Z"
      },
      {
        "duration": 258,
        "start_time": "2022-09-15T06:57:14.074Z"
      },
      {
        "duration": 330,
        "start_time": "2022-09-15T06:57:43.502Z"
      },
      {
        "duration": 117,
        "start_time": "2022-09-15T07:00:14.846Z"
      },
      {
        "duration": 8,
        "start_time": "2022-09-15T07:00:55.556Z"
      },
      {
        "duration": 14,
        "start_time": "2022-09-15T07:01:05.170Z"
      },
      {
        "duration": 144,
        "start_time": "2022-09-15T07:01:53.573Z"
      },
      {
        "duration": 1420,
        "start_time": "2022-09-15T07:02:00.891Z"
      },
      {
        "duration": 976,
        "start_time": "2022-09-15T07:02:43.016Z"
      },
      {
        "duration": 6,
        "start_time": "2022-09-15T07:02:57.601Z"
      },
      {
        "duration": 1117,
        "start_time": "2022-09-15T07:04:19.934Z"
      },
      {
        "duration": 89,
        "start_time": "2022-09-15T07:04:32.127Z"
      },
      {
        "duration": 3867,
        "start_time": "2022-09-15T07:05:10.761Z"
      },
      {
        "duration": 1646,
        "start_time": "2022-09-15T07:05:36.829Z"
      },
      {
        "duration": 118,
        "start_time": "2022-09-15T07:05:45.934Z"
      },
      {
        "duration": 15,
        "start_time": "2022-09-15T07:06:35.236Z"
      },
      {
        "duration": 4,
        "start_time": "2022-09-15T07:06:49.973Z"
      },
      {
        "duration": 6,
        "start_time": "2022-09-15T07:06:54.232Z"
      },
      {
        "duration": 13,
        "start_time": "2022-09-15T07:07:27.263Z"
      },
      {
        "duration": 148,
        "start_time": "2022-09-15T07:08:36.619Z"
      },
      {
        "duration": 141,
        "start_time": "2022-09-15T07:08:51.296Z"
      },
      {
        "duration": 101,
        "start_time": "2022-09-15T07:10:01.090Z"
      },
      {
        "duration": 22,
        "start_time": "2022-09-15T07:10:42.709Z"
      },
      {
        "duration": 7,
        "start_time": "2022-09-15T07:11:20.042Z"
      },
      {
        "duration": 122,
        "start_time": "2022-09-15T07:13:29.281Z"
      },
      {
        "duration": 20,
        "start_time": "2022-09-15T07:13:33.919Z"
      },
      {
        "duration": 180,
        "start_time": "2022-09-15T07:13:46.402Z"
      },
      {
        "duration": 128,
        "start_time": "2022-09-15T07:14:09.471Z"
      },
      {
        "duration": 128,
        "start_time": "2022-09-15T07:14:17.777Z"
      },
      {
        "duration": 853,
        "start_time": "2022-09-15T07:14:30.779Z"
      },
      {
        "duration": 133,
        "start_time": "2022-09-15T07:14:39.004Z"
      },
      {
        "duration": 109,
        "start_time": "2022-09-15T07:15:07.228Z"
      },
      {
        "duration": 118,
        "start_time": "2022-09-15T07:15:49.086Z"
      },
      {
        "duration": 106,
        "start_time": "2022-09-15T07:17:46.196Z"
      },
      {
        "duration": 113,
        "start_time": "2022-09-15T07:18:17.029Z"
      },
      {
        "duration": 103,
        "start_time": "2022-09-15T07:18:43.544Z"
      },
      {
        "duration": 102,
        "start_time": "2022-09-15T07:23:19.685Z"
      },
      {
        "duration": 117,
        "start_time": "2022-09-15T07:24:06.037Z"
      },
      {
        "duration": 118,
        "start_time": "2022-09-15T07:24:32.164Z"
      },
      {
        "duration": 403,
        "start_time": "2022-09-15T07:25:21.252Z"
      },
      {
        "duration": 363,
        "start_time": "2022-09-15T07:26:23.764Z"
      },
      {
        "duration": 430,
        "start_time": "2022-09-15T07:26:52.510Z"
      },
      {
        "duration": 478,
        "start_time": "2022-09-15T07:27:06.322Z"
      },
      {
        "duration": 104,
        "start_time": "2022-09-15T07:27:28.465Z"
      },
      {
        "duration": 131,
        "start_time": "2022-09-15T07:28:42.603Z"
      },
      {
        "duration": 397,
        "start_time": "2022-09-15T07:30:12.293Z"
      },
      {
        "duration": 374,
        "start_time": "2022-09-15T07:30:23.095Z"
      },
      {
        "duration": 350,
        "start_time": "2022-09-15T07:30:52.944Z"
      },
      {
        "duration": 131,
        "start_time": "2022-09-15T07:31:22.592Z"
      },
      {
        "duration": 124,
        "start_time": "2022-09-15T07:32:04.167Z"
      },
      {
        "duration": 191,
        "start_time": "2022-09-15T07:32:30.287Z"
      },
      {
        "duration": 114,
        "start_time": "2022-09-15T07:32:43.494Z"
      },
      {
        "duration": 121,
        "start_time": "2022-09-15T07:32:54.307Z"
      },
      {
        "duration": 117,
        "start_time": "2022-09-15T07:33:02.881Z"
      },
      {
        "duration": 103,
        "start_time": "2022-09-15T07:33:10.335Z"
      },
      {
        "duration": 112,
        "start_time": "2022-09-15T07:33:40.004Z"
      },
      {
        "duration": 121,
        "start_time": "2022-09-15T07:36:20.506Z"
      },
      {
        "duration": 494,
        "start_time": "2022-09-15T07:36:44.637Z"
      },
      {
        "duration": 21,
        "start_time": "2022-09-15T07:36:45.133Z"
      },
      {
        "duration": 13,
        "start_time": "2022-09-15T07:36:45.156Z"
      },
      {
        "duration": 10,
        "start_time": "2022-09-15T07:36:45.171Z"
      },
      {
        "duration": 57,
        "start_time": "2022-09-15T07:36:45.182Z"
      },
      {
        "duration": 4,
        "start_time": "2022-09-15T07:36:45.241Z"
      },
      {
        "duration": 22,
        "start_time": "2022-09-15T07:36:45.247Z"
      },
      {
        "duration": 11,
        "start_time": "2022-09-15T07:36:45.271Z"
      },
      {
        "duration": 7,
        "start_time": "2022-09-15T07:36:45.283Z"
      },
      {
        "duration": 17,
        "start_time": "2022-09-15T07:36:45.293Z"
      },
      {
        "duration": 31,
        "start_time": "2022-09-15T07:36:45.312Z"
      },
      {
        "duration": 9,
        "start_time": "2022-09-15T07:36:45.344Z"
      },
      {
        "duration": 4,
        "start_time": "2022-09-15T07:36:45.354Z"
      },
      {
        "duration": 12,
        "start_time": "2022-09-15T07:36:45.359Z"
      },
      {
        "duration": 42,
        "start_time": "2022-09-15T07:36:45.372Z"
      },
      {
        "duration": 16,
        "start_time": "2022-09-15T07:36:45.415Z"
      },
      {
        "duration": 3,
        "start_time": "2022-09-15T07:36:45.433Z"
      },
      {
        "duration": 12,
        "start_time": "2022-09-15T07:36:45.438Z"
      },
      {
        "duration": 5,
        "start_time": "2022-09-15T07:36:45.451Z"
      },
      {
        "duration": 4,
        "start_time": "2022-09-15T07:36:45.457Z"
      },
      {
        "duration": 9,
        "start_time": "2022-09-15T07:36:45.462Z"
      },
      {
        "duration": 1088,
        "start_time": "2022-09-15T07:36:45.472Z"
      },
      {
        "duration": 126,
        "start_time": "2022-09-15T07:36:46.561Z"
      },
      {
        "duration": 3,
        "start_time": "2022-09-15T07:36:46.688Z"
      },
      {
        "duration": 4,
        "start_time": "2022-09-15T07:36:46.692Z"
      },
      {
        "duration": 103,
        "start_time": "2022-09-15T07:37:10.584Z"
      },
      {
        "duration": 119,
        "start_time": "2022-09-15T07:37:24.983Z"
      },
      {
        "duration": 1175,
        "start_time": "2022-09-15T07:38:35.705Z"
      },
      {
        "duration": 121,
        "start_time": "2022-09-15T07:38:48.795Z"
      },
      {
        "duration": 66,
        "start_time": "2022-09-15T07:46:45.815Z"
      },
      {
        "duration": 309,
        "start_time": "2022-09-15T07:47:21.546Z"
      },
      {
        "duration": 308,
        "start_time": "2022-09-15T07:48:52.054Z"
      },
      {
        "duration": 291,
        "start_time": "2022-09-15T07:50:27.987Z"
      },
      {
        "duration": 11,
        "start_time": "2022-09-15T07:53:40.350Z"
      },
      {
        "duration": 15,
        "start_time": "2022-09-15T07:53:50.128Z"
      },
      {
        "duration": 12,
        "start_time": "2022-09-15T07:54:02.368Z"
      },
      {
        "duration": 15,
        "start_time": "2022-09-15T07:54:08.211Z"
      },
      {
        "duration": 95,
        "start_time": "2022-09-15T07:54:54.769Z"
      },
      {
        "duration": 50,
        "start_time": "2022-09-15T08:02:21.781Z"
      },
      {
        "duration": 158,
        "start_time": "2022-09-15T08:02:27.597Z"
      },
      {
        "duration": 109,
        "start_time": "2022-09-15T08:02:35.539Z"
      },
      {
        "duration": 0,
        "start_time": "2022-09-15T08:03:51.061Z"
      },
      {
        "duration": 14,
        "start_time": "2022-09-15T08:03:55.708Z"
      },
      {
        "duration": 464,
        "start_time": "2022-09-15T08:06:05.309Z"
      },
      {
        "duration": 20,
        "start_time": "2022-09-15T08:06:05.775Z"
      },
      {
        "duration": 26,
        "start_time": "2022-09-15T08:06:05.797Z"
      },
      {
        "duration": 9,
        "start_time": "2022-09-15T08:06:06.580Z"
      },
      {
        "duration": 39,
        "start_time": "2022-09-15T08:06:06.591Z"
      },
      {
        "duration": 3,
        "start_time": "2022-09-15T08:06:06.632Z"
      },
      {
        "duration": 10,
        "start_time": "2022-09-15T08:06:06.637Z"
      },
      {
        "duration": 3,
        "start_time": "2022-09-15T08:06:06.649Z"
      },
      {
        "duration": 26,
        "start_time": "2022-09-15T08:06:06.653Z"
      },
      {
        "duration": 10,
        "start_time": "2022-09-15T08:06:06.680Z"
      },
      {
        "duration": 36,
        "start_time": "2022-09-15T08:06:06.692Z"
      },
      {
        "duration": 9,
        "start_time": "2022-09-15T08:06:06.730Z"
      },
      {
        "duration": 4,
        "start_time": "2022-09-15T08:06:06.741Z"
      },
      {
        "duration": 11,
        "start_time": "2022-09-15T08:06:06.746Z"
      },
      {
        "duration": 17,
        "start_time": "2022-09-15T08:06:06.759Z"
      },
      {
        "duration": 32,
        "start_time": "2022-09-15T08:06:06.778Z"
      },
      {
        "duration": 2,
        "start_time": "2022-09-15T08:06:06.812Z"
      },
      {
        "duration": 11,
        "start_time": "2022-09-15T08:06:06.816Z"
      },
      {
        "duration": 8,
        "start_time": "2022-09-15T08:06:06.829Z"
      },
      {
        "duration": 4,
        "start_time": "2022-09-15T08:06:06.838Z"
      },
      {
        "duration": 9,
        "start_time": "2022-09-15T08:06:06.844Z"
      },
      {
        "duration": 862,
        "start_time": "2022-09-15T08:06:06.854Z"
      },
      {
        "duration": 316,
        "start_time": "2022-09-15T08:06:07.718Z"
      },
      {
        "duration": 105,
        "start_time": "2022-09-15T08:06:08.035Z"
      },
      {
        "duration": 730,
        "start_time": "2022-09-15T08:06:08.143Z"
      },
      {
        "duration": 809,
        "start_time": "2022-09-15T08:07:30.445Z"
      },
      {
        "duration": 22,
        "start_time": "2022-09-15T08:08:31.443Z"
      },
      {
        "duration": 9,
        "start_time": "2022-09-15T08:08:39.935Z"
      },
      {
        "duration": 12,
        "start_time": "2022-09-15T08:09:37.826Z"
      },
      {
        "duration": 106,
        "start_time": "2022-09-15T08:09:56.388Z"
      },
      {
        "duration": 14,
        "start_time": "2022-09-15T08:10:30.463Z"
      },
      {
        "duration": 14,
        "start_time": "2022-09-15T08:10:47.034Z"
      },
      {
        "duration": 155,
        "start_time": "2022-09-15T08:10:54.441Z"
      },
      {
        "duration": 18,
        "start_time": "2022-09-15T08:10:57.722Z"
      },
      {
        "duration": 70,
        "start_time": "2022-09-15T08:11:08.654Z"
      },
      {
        "duration": 0,
        "start_time": "2022-09-15T08:12:38.082Z"
      },
      {
        "duration": 44,
        "start_time": "2022-09-15T10:23:44.204Z"
      },
      {
        "duration": 700,
        "start_time": "2022-09-15T10:23:51.087Z"
      },
      {
        "duration": 26,
        "start_time": "2022-09-15T10:23:51.789Z"
      },
      {
        "duration": 24,
        "start_time": "2022-09-15T10:23:51.816Z"
      },
      {
        "duration": 19,
        "start_time": "2022-09-15T10:23:51.843Z"
      },
      {
        "duration": 44,
        "start_time": "2022-09-15T10:23:51.864Z"
      },
      {
        "duration": 3,
        "start_time": "2022-09-15T10:23:51.910Z"
      },
      {
        "duration": 11,
        "start_time": "2022-09-15T10:23:51.914Z"
      },
      {
        "duration": 4,
        "start_time": "2022-09-15T10:23:51.926Z"
      },
      {
        "duration": 10,
        "start_time": "2022-09-15T10:23:51.932Z"
      },
      {
        "duration": 4,
        "start_time": "2022-09-15T10:23:51.945Z"
      },
      {
        "duration": 34,
        "start_time": "2022-09-15T10:23:51.950Z"
      },
      {
        "duration": 9,
        "start_time": "2022-09-15T10:23:51.985Z"
      },
      {
        "duration": 13,
        "start_time": "2022-09-15T10:23:51.995Z"
      },
      {
        "duration": 27,
        "start_time": "2022-09-15T10:23:52.010Z"
      },
      {
        "duration": 28,
        "start_time": "2022-09-15T10:23:52.038Z"
      },
      {
        "duration": 16,
        "start_time": "2022-09-15T10:23:52.068Z"
      },
      {
        "duration": 12,
        "start_time": "2022-09-15T10:23:52.086Z"
      },
      {
        "duration": 25,
        "start_time": "2022-09-15T10:23:52.100Z"
      },
      {
        "duration": 19,
        "start_time": "2022-09-15T10:23:52.126Z"
      },
      {
        "duration": 4,
        "start_time": "2022-09-15T10:23:52.147Z"
      },
      {
        "duration": 33,
        "start_time": "2022-09-15T10:23:52.152Z"
      },
      {
        "duration": 1043,
        "start_time": "2022-09-15T10:23:52.187Z"
      },
      {
        "duration": 323,
        "start_time": "2022-09-15T10:23:53.231Z"
      },
      {
        "duration": 105,
        "start_time": "2022-09-15T10:23:53.555Z"
      },
      {
        "duration": 1297,
        "start_time": "2022-09-15T10:23:53.661Z"
      },
      {
        "duration": 105,
        "start_time": "2022-09-15T10:24:05.447Z"
      },
      {
        "duration": 85,
        "start_time": "2022-09-15T10:24:27.823Z"
      },
      {
        "duration": 94,
        "start_time": "2022-09-15T10:24:50.133Z"
      },
      {
        "duration": 12,
        "start_time": "2022-09-15T10:31:52.578Z"
      },
      {
        "duration": 137,
        "start_time": "2022-09-15T10:32:08.825Z"
      },
      {
        "duration": 917,
        "start_time": "2022-09-15T10:32:46.444Z"
      },
      {
        "duration": 12,
        "start_time": "2022-09-15T10:36:01.356Z"
      },
      {
        "duration": 12,
        "start_time": "2022-09-15T10:36:38.221Z"
      },
      {
        "duration": 116,
        "start_time": "2022-09-15T10:40:23.450Z"
      },
      {
        "duration": 175,
        "start_time": "2022-09-15T10:41:44.367Z"
      },
      {
        "duration": 12,
        "start_time": "2022-09-15T11:06:26.150Z"
      },
      {
        "duration": 2,
        "start_time": "2022-09-15T11:06:56.604Z"
      },
      {
        "duration": 483,
        "start_time": "2022-09-15T11:07:03.721Z"
      },
      {
        "duration": 21,
        "start_time": "2022-09-15T11:07:04.206Z"
      },
      {
        "duration": 14,
        "start_time": "2022-09-15T11:07:04.229Z"
      },
      {
        "duration": 9,
        "start_time": "2022-09-15T11:07:04.245Z"
      },
      {
        "duration": 31,
        "start_time": "2022-09-15T11:07:04.256Z"
      },
      {
        "duration": 3,
        "start_time": "2022-09-15T11:07:04.288Z"
      },
      {
        "duration": 32,
        "start_time": "2022-09-15T11:07:04.293Z"
      },
      {
        "duration": 5,
        "start_time": "2022-09-15T11:07:04.328Z"
      },
      {
        "duration": 12,
        "start_time": "2022-09-15T11:07:04.335Z"
      },
      {
        "duration": 5,
        "start_time": "2022-09-15T11:07:04.352Z"
      },
      {
        "duration": 34,
        "start_time": "2022-09-15T11:07:04.359Z"
      },
      {
        "duration": 32,
        "start_time": "2022-09-15T11:07:04.395Z"
      },
      {
        "duration": 5,
        "start_time": "2022-09-15T11:07:04.428Z"
      },
      {
        "duration": 14,
        "start_time": "2022-09-15T11:07:04.434Z"
      },
      {
        "duration": 21,
        "start_time": "2022-09-15T11:07:04.449Z"
      },
      {
        "duration": 15,
        "start_time": "2022-09-15T11:07:04.471Z"
      },
      {
        "duration": 3,
        "start_time": "2022-09-15T11:07:04.487Z"
      },
      {
        "duration": 35,
        "start_time": "2022-09-15T11:07:04.492Z"
      },
      {
        "duration": 9,
        "start_time": "2022-09-15T11:07:04.528Z"
      },
      {
        "duration": 5,
        "start_time": "2022-09-15T11:07:04.538Z"
      },
      {
        "duration": 10,
        "start_time": "2022-09-15T11:07:04.544Z"
      },
      {
        "duration": 73,
        "start_time": "2022-09-15T11:07:04.556Z"
      },
      {
        "duration": 0,
        "start_time": "2022-09-15T11:07:04.631Z"
      },
      {
        "duration": 0,
        "start_time": "2022-09-15T11:07:04.632Z"
      },
      {
        "duration": 0,
        "start_time": "2022-09-15T11:07:04.633Z"
      },
      {
        "duration": 17,
        "start_time": "2022-09-15T11:07:18.513Z"
      },
      {
        "duration": 14,
        "start_time": "2022-09-15T11:26:05.524Z"
      },
      {
        "duration": 18,
        "start_time": "2022-09-15T11:26:22.420Z"
      },
      {
        "duration": 15,
        "start_time": "2022-09-15T11:26:25.966Z"
      },
      {
        "duration": 28,
        "start_time": "2022-09-15T11:26:35.337Z"
      },
      {
        "duration": 13,
        "start_time": "2022-09-15T11:27:32.018Z"
      },
      {
        "duration": 14,
        "start_time": "2022-09-15T11:27:47.166Z"
      },
      {
        "duration": 43,
        "start_time": "2022-09-15T11:28:06.591Z"
      },
      {
        "duration": 53,
        "start_time": "2022-09-15T11:30:02.446Z"
      },
      {
        "duration": 17,
        "start_time": "2022-09-15T11:30:15.476Z"
      },
      {
        "duration": 65,
        "start_time": "2022-09-15T11:38:05.053Z"
      },
      {
        "duration": 26,
        "start_time": "2022-09-15T11:38:17.132Z"
      },
      {
        "duration": 20,
        "start_time": "2022-09-15T11:38:30.208Z"
      },
      {
        "duration": 63,
        "start_time": "2022-09-15T11:39:04.226Z"
      },
      {
        "duration": 21,
        "start_time": "2022-09-15T11:39:47.662Z"
      },
      {
        "duration": 23,
        "start_time": "2022-09-15T11:48:45.263Z"
      },
      {
        "duration": 24,
        "start_time": "2022-09-15T11:49:07.889Z"
      },
      {
        "duration": 406,
        "start_time": "2022-09-15T12:05:07.322Z"
      },
      {
        "duration": 23,
        "start_time": "2022-09-15T12:05:52.598Z"
      },
      {
        "duration": 24,
        "start_time": "2022-09-15T12:07:59.230Z"
      },
      {
        "duration": 17,
        "start_time": "2022-09-15T12:08:39.477Z"
      },
      {
        "duration": 18,
        "start_time": "2022-09-15T12:11:01.751Z"
      },
      {
        "duration": 18,
        "start_time": "2022-09-15T12:11:20.019Z"
      },
      {
        "duration": 61,
        "start_time": "2022-09-15T12:12:05.692Z"
      },
      {
        "duration": 20,
        "start_time": "2022-09-15T12:12:13.948Z"
      },
      {
        "duration": 936,
        "start_time": "2022-09-15T12:16:03.187Z"
      },
      {
        "duration": 1180,
        "start_time": "2022-09-15T12:16:38.420Z"
      },
      {
        "duration": 29,
        "start_time": "2022-09-15T12:17:06.517Z"
      },
      {
        "duration": 913,
        "start_time": "2022-09-15T12:27:39.698Z"
      },
      {
        "duration": 860,
        "start_time": "2022-09-15T12:27:50.584Z"
      },
      {
        "duration": 949,
        "start_time": "2022-09-15T12:28:08.381Z"
      },
      {
        "duration": 1343,
        "start_time": "2022-09-15T12:28:27.257Z"
      },
      {
        "duration": 1379,
        "start_time": "2022-09-15T12:29:28.622Z"
      },
      {
        "duration": 3101,
        "start_time": "2022-09-15T12:29:59.770Z"
      },
      {
        "duration": 2766,
        "start_time": "2022-09-15T12:30:13.155Z"
      },
      {
        "duration": 1855,
        "start_time": "2022-09-15T12:31:11.455Z"
      },
      {
        "duration": 1476,
        "start_time": "2022-09-15T12:31:40.438Z"
      },
      {
        "duration": 2323,
        "start_time": "2022-09-15T12:32:17.648Z"
      },
      {
        "duration": 17,
        "start_time": "2022-09-15T12:32:44.060Z"
      },
      {
        "duration": 890,
        "start_time": "2022-09-15T12:33:55.613Z"
      },
      {
        "duration": 1102,
        "start_time": "2022-09-15T12:34:08.657Z"
      },
      {
        "duration": 17,
        "start_time": "2022-09-15T12:34:14.719Z"
      },
      {
        "duration": 1537,
        "start_time": "2022-09-15T12:41:33.541Z"
      },
      {
        "duration": 893,
        "start_time": "2022-09-15T12:41:52.517Z"
      },
      {
        "duration": 22,
        "start_time": "2022-09-15T12:42:31.536Z"
      },
      {
        "duration": 20,
        "start_time": "2022-09-15T12:42:42.724Z"
      },
      {
        "duration": 29,
        "start_time": "2022-09-15T12:42:50.862Z"
      },
      {
        "duration": 31,
        "start_time": "2022-09-15T12:43:01.242Z"
      },
      {
        "duration": 26,
        "start_time": "2022-09-15T12:43:10.264Z"
      },
      {
        "duration": 1064,
        "start_time": "2022-09-15T12:44:28.901Z"
      },
      {
        "duration": 790,
        "start_time": "2022-09-15T12:44:45.125Z"
      },
      {
        "duration": 1036,
        "start_time": "2022-09-15T12:45:03.556Z"
      },
      {
        "duration": 719,
        "start_time": "2022-09-15T12:45:14.238Z"
      },
      {
        "duration": 867,
        "start_time": "2022-09-15T12:45:56.377Z"
      },
      {
        "duration": 1110,
        "start_time": "2022-09-15T12:46:13.503Z"
      },
      {
        "duration": 1160,
        "start_time": "2022-09-15T12:46:26.617Z"
      },
      {
        "duration": 1209,
        "start_time": "2022-09-15T12:46:49.427Z"
      },
      {
        "duration": 893,
        "start_time": "2022-09-15T12:46:56.925Z"
      },
      {
        "duration": 27,
        "start_time": "2022-09-15T12:47:06.968Z"
      },
      {
        "duration": 37,
        "start_time": "2022-09-15T12:48:31.974Z"
      },
      {
        "duration": 33,
        "start_time": "2022-09-15T12:48:55.504Z"
      },
      {
        "duration": 29,
        "start_time": "2022-09-15T12:49:09.819Z"
      },
      {
        "duration": 1104,
        "start_time": "2022-09-15T12:49:37.955Z"
      },
      {
        "duration": 28,
        "start_time": "2022-09-15T12:50:11.197Z"
      },
      {
        "duration": 28,
        "start_time": "2022-09-15T12:50:14.624Z"
      },
      {
        "duration": 1165,
        "start_time": "2022-09-15T12:50:26.795Z"
      },
      {
        "duration": 27,
        "start_time": "2022-09-15T12:50:36.893Z"
      },
      {
        "duration": 1061,
        "start_time": "2022-09-15T12:50:49.873Z"
      },
      {
        "duration": 40,
        "start_time": "2022-09-15T12:50:54.269Z"
      },
      {
        "duration": 29,
        "start_time": "2022-09-15T12:51:07.952Z"
      },
      {
        "duration": 30,
        "start_time": "2022-09-15T12:51:27.605Z"
      },
      {
        "duration": 30,
        "start_time": "2022-09-15T12:51:52.262Z"
      },
      {
        "duration": 1265,
        "start_time": "2022-09-15T12:52:24.144Z"
      },
      {
        "duration": 29,
        "start_time": "2022-09-15T12:52:30.938Z"
      },
      {
        "duration": 1158,
        "start_time": "2022-09-15T12:52:41.255Z"
      },
      {
        "duration": 627,
        "start_time": "2022-09-15T12:52:47.386Z"
      },
      {
        "duration": 835,
        "start_time": "2022-09-15T12:53:06.458Z"
      },
      {
        "duration": 1080,
        "start_time": "2022-09-15T12:53:11.508Z"
      },
      {
        "duration": 73,
        "start_time": "2022-09-15T12:53:24.978Z"
      },
      {
        "duration": 920,
        "start_time": "2022-09-15T12:53:30.498Z"
      },
      {
        "duration": 685,
        "start_time": "2022-09-15T12:53:38.173Z"
      },
      {
        "duration": 879,
        "start_time": "2022-09-15T12:55:25.298Z"
      },
      {
        "duration": 729,
        "start_time": "2022-09-15T12:57:11.649Z"
      },
      {
        "duration": 987,
        "start_time": "2022-09-15T12:57:23.941Z"
      },
      {
        "duration": 681,
        "start_time": "2022-09-15T12:57:38.690Z"
      },
      {
        "duration": 41,
        "start_time": "2022-09-15T12:57:49.279Z"
      },
      {
        "duration": 42,
        "start_time": "2022-09-15T12:58:08.869Z"
      },
      {
        "duration": 27,
        "start_time": "2022-09-15T12:58:18.478Z"
      },
      {
        "duration": 28,
        "start_time": "2022-09-15T12:59:41.115Z"
      },
      {
        "duration": 2048,
        "start_time": "2022-09-15T13:00:08.094Z"
      },
      {
        "duration": 1659,
        "start_time": "2022-09-15T13:00:26.740Z"
      },
      {
        "duration": 2183,
        "start_time": "2022-09-15T13:01:04.319Z"
      },
      {
        "duration": 30,
        "start_time": "2022-09-15T13:01:25.324Z"
      },
      {
        "duration": 1324,
        "start_time": "2022-09-15T13:01:41.039Z"
      },
      {
        "duration": 35,
        "start_time": "2022-09-15T13:01:45.697Z"
      },
      {
        "duration": 28,
        "start_time": "2022-09-15T13:02:17.695Z"
      },
      {
        "duration": 973,
        "start_time": "2022-09-15T13:03:15.563Z"
      },
      {
        "duration": 28,
        "start_time": "2022-09-15T13:03:42.945Z"
      },
      {
        "duration": 28,
        "start_time": "2022-09-15T13:04:21.292Z"
      },
      {
        "duration": 29,
        "start_time": "2022-09-15T13:04:30.568Z"
      },
      {
        "duration": 146,
        "start_time": "2022-09-15T13:04:41.891Z"
      },
      {
        "duration": 31,
        "start_time": "2022-09-15T13:05:17.991Z"
      },
      {
        "duration": 139,
        "start_time": "2022-09-15T13:05:35.014Z"
      },
      {
        "duration": 187,
        "start_time": "2022-09-15T13:07:17.411Z"
      },
      {
        "duration": 123,
        "start_time": "2022-09-15T13:07:42.644Z"
      },
      {
        "duration": 127,
        "start_time": "2022-09-15T13:08:08.402Z"
      },
      {
        "duration": 5,
        "start_time": "2022-09-15T13:10:19.189Z"
      },
      {
        "duration": 120,
        "start_time": "2022-09-15T13:10:24.315Z"
      },
      {
        "duration": 124,
        "start_time": "2022-09-15T13:11:00.330Z"
      },
      {
        "duration": 121,
        "start_time": "2022-09-15T13:21:56.236Z"
      },
      {
        "duration": 55,
        "start_time": "2022-09-15T21:51:16.536Z"
      },
      {
        "duration": 10,
        "start_time": "2022-09-15T21:51:49.817Z"
      },
      {
        "duration": 14,
        "start_time": "2022-09-15T21:52:38.990Z"
      },
      {
        "duration": 16,
        "start_time": "2022-09-15T21:53:49.451Z"
      },
      {
        "duration": 17,
        "start_time": "2022-09-15T21:55:33.294Z"
      },
      {
        "duration": 116,
        "start_time": "2022-09-15T21:56:22.130Z"
      },
      {
        "duration": 24,
        "start_time": "2022-09-15T21:57:25.049Z"
      },
      {
        "duration": 158,
        "start_time": "2022-09-15T21:58:47.444Z"
      },
      {
        "duration": 20,
        "start_time": "2022-09-15T21:59:49.481Z"
      },
      {
        "duration": 25,
        "start_time": "2022-09-15T21:59:55.104Z"
      },
      {
        "duration": 24,
        "start_time": "2022-09-15T22:00:12.049Z"
      },
      {
        "duration": 136,
        "start_time": "2022-09-15T22:00:46.241Z"
      },
      {
        "duration": 135,
        "start_time": "2022-09-15T22:23:54.770Z"
      },
      {
        "duration": 134,
        "start_time": "2022-09-15T22:24:03.379Z"
      },
      {
        "duration": 185,
        "start_time": "2022-09-15T22:26:46.250Z"
      },
      {
        "duration": 9,
        "start_time": "2022-09-15T22:32:50.899Z"
      },
      {
        "duration": 140,
        "start_time": "2022-09-15T22:33:11.714Z"
      },
      {
        "duration": 132,
        "start_time": "2022-09-15T22:34:14.130Z"
      },
      {
        "duration": 145,
        "start_time": "2022-09-15T22:34:32.277Z"
      },
      {
        "duration": 212,
        "start_time": "2022-09-15T22:35:39.019Z"
      },
      {
        "duration": 163,
        "start_time": "2022-09-15T22:35:55.978Z"
      },
      {
        "duration": 165,
        "start_time": "2022-09-15T22:36:30.861Z"
      },
      {
        "duration": 54,
        "start_time": "2022-09-15T22:36:59.281Z"
      },
      {
        "duration": 154,
        "start_time": "2022-09-15T22:37:08.301Z"
      },
      {
        "duration": 163,
        "start_time": "2022-09-15T22:37:57.458Z"
      },
      {
        "duration": 140,
        "start_time": "2022-09-15T22:38:42.051Z"
      },
      {
        "duration": 4,
        "start_time": "2022-09-15T22:45:10.185Z"
      },
      {
        "duration": 134,
        "start_time": "2022-09-15T22:52:41.344Z"
      },
      {
        "duration": 215,
        "start_time": "2022-09-15T22:52:58.459Z"
      },
      {
        "duration": 142,
        "start_time": "2022-09-15T22:54:39.744Z"
      },
      {
        "duration": 133,
        "start_time": "2022-09-15T22:55:11.938Z"
      },
      {
        "duration": 149,
        "start_time": "2022-09-15T22:56:10.548Z"
      },
      {
        "duration": 153,
        "start_time": "2022-09-15T23:02:30.997Z"
      },
      {
        "duration": 146,
        "start_time": "2022-09-15T23:04:29.845Z"
      },
      {
        "duration": 13,
        "start_time": "2022-09-15T23:14:07.335Z"
      },
      {
        "duration": 462,
        "start_time": "2022-09-15T23:14:43.538Z"
      },
      {
        "duration": 20,
        "start_time": "2022-09-15T23:14:44.002Z"
      },
      {
        "duration": 24,
        "start_time": "2022-09-15T23:14:44.024Z"
      },
      {
        "duration": 11,
        "start_time": "2022-09-15T23:14:44.050Z"
      },
      {
        "duration": 48,
        "start_time": "2022-09-15T23:14:44.063Z"
      },
      {
        "duration": 4,
        "start_time": "2022-09-15T23:14:44.113Z"
      },
      {
        "duration": 14,
        "start_time": "2022-09-15T23:14:44.118Z"
      },
      {
        "duration": 4,
        "start_time": "2022-09-15T23:14:44.134Z"
      },
      {
        "duration": 13,
        "start_time": "2022-09-15T23:14:44.140Z"
      },
      {
        "duration": 9,
        "start_time": "2022-09-15T23:14:44.155Z"
      },
      {
        "duration": 33,
        "start_time": "2022-09-15T23:14:44.165Z"
      },
      {
        "duration": 9,
        "start_time": "2022-09-15T23:14:44.199Z"
      },
      {
        "duration": 15,
        "start_time": "2022-09-15T23:14:44.210Z"
      },
      {
        "duration": 14,
        "start_time": "2022-09-15T23:14:44.227Z"
      },
      {
        "duration": 18,
        "start_time": "2022-09-15T23:14:44.243Z"
      },
      {
        "duration": 16,
        "start_time": "2022-09-15T23:14:44.263Z"
      },
      {
        "duration": 3,
        "start_time": "2022-09-15T23:14:44.280Z"
      },
      {
        "duration": 13,
        "start_time": "2022-09-15T23:14:44.285Z"
      },
      {
        "duration": 25,
        "start_time": "2022-09-15T23:14:44.299Z"
      },
      {
        "duration": 8,
        "start_time": "2022-09-15T23:14:44.325Z"
      },
      {
        "duration": 13,
        "start_time": "2022-09-15T23:14:44.334Z"
      },
      {
        "duration": 374,
        "start_time": "2022-09-15T23:14:44.348Z"
      },
      {
        "duration": 163,
        "start_time": "2022-09-15T23:14:44.724Z"
      },
      {
        "duration": 168,
        "start_time": "2022-09-15T23:14:44.890Z"
      },
      {
        "duration": 157,
        "start_time": "2022-09-15T23:14:45.059Z"
      },
      {
        "duration": 52,
        "start_time": "2022-09-16T13:28:26.586Z"
      },
      {
        "duration": 645,
        "start_time": "2022-09-16T13:28:36.829Z"
      },
      {
        "duration": 21,
        "start_time": "2022-09-16T13:28:37.476Z"
      },
      {
        "duration": 13,
        "start_time": "2022-09-16T13:28:37.498Z"
      },
      {
        "duration": 9,
        "start_time": "2022-09-16T13:28:37.513Z"
      },
      {
        "duration": 31,
        "start_time": "2022-09-16T13:28:37.523Z"
      },
      {
        "duration": 3,
        "start_time": "2022-09-16T13:28:37.556Z"
      },
      {
        "duration": 9,
        "start_time": "2022-09-16T13:28:37.560Z"
      },
      {
        "duration": 5,
        "start_time": "2022-09-16T13:28:37.571Z"
      },
      {
        "duration": 7,
        "start_time": "2022-09-16T13:28:37.578Z"
      },
      {
        "duration": 23,
        "start_time": "2022-09-16T13:28:37.588Z"
      },
      {
        "duration": 31,
        "start_time": "2022-09-16T13:28:37.612Z"
      },
      {
        "duration": 8,
        "start_time": "2022-09-16T13:28:37.645Z"
      },
      {
        "duration": 4,
        "start_time": "2022-09-16T13:28:37.654Z"
      },
      {
        "duration": 10,
        "start_time": "2022-09-16T13:28:37.659Z"
      },
      {
        "duration": 39,
        "start_time": "2022-09-16T13:28:37.671Z"
      },
      {
        "duration": 15,
        "start_time": "2022-09-16T13:28:37.711Z"
      },
      {
        "duration": 3,
        "start_time": "2022-09-16T13:28:37.728Z"
      },
      {
        "duration": 11,
        "start_time": "2022-09-16T13:28:37.732Z"
      },
      {
        "duration": 8,
        "start_time": "2022-09-16T13:28:37.744Z"
      },
      {
        "duration": 3,
        "start_time": "2022-09-16T13:28:37.754Z"
      },
      {
        "duration": 12,
        "start_time": "2022-09-16T13:28:37.758Z"
      },
      {
        "duration": 608,
        "start_time": "2022-09-16T13:28:37.772Z"
      },
      {
        "duration": 143,
        "start_time": "2022-09-16T13:28:38.382Z"
      },
      {
        "duration": 19,
        "start_time": "2022-09-16T13:28:38.526Z"
      },
      {
        "duration": 156,
        "start_time": "2022-09-16T13:28:38.546Z"
      },
      {
        "duration": 1577,
        "start_time": "2022-09-16T13:30:33.125Z"
      },
      {
        "duration": 19,
        "start_time": "2022-09-16T13:30:53.584Z"
      },
      {
        "duration": 1032,
        "start_time": "2022-09-16T13:33:02.453Z"
      },
      {
        "duration": 964,
        "start_time": "2022-09-16T13:33:33.572Z"
      },
      {
        "duration": 1075,
        "start_time": "2022-09-16T13:34:41.836Z"
      },
      {
        "duration": 35,
        "start_time": "2022-09-16T13:35:24.670Z"
      },
      {
        "duration": 29,
        "start_time": "2022-09-16T13:36:31.491Z"
      },
      {
        "duration": 1283,
        "start_time": "2022-09-16T13:36:44.869Z"
      },
      {
        "duration": 819,
        "start_time": "2022-09-16T13:36:48.809Z"
      },
      {
        "duration": 852,
        "start_time": "2022-09-16T13:37:19.424Z"
      },
      {
        "duration": 15,
        "start_time": "2022-09-16T13:40:15.035Z"
      },
      {
        "duration": 17,
        "start_time": "2022-09-16T13:40:40.962Z"
      },
      {
        "duration": 20,
        "start_time": "2022-09-16T13:41:13.969Z"
      },
      {
        "duration": 17,
        "start_time": "2022-09-16T13:41:23.465Z"
      },
      {
        "duration": 30,
        "start_time": "2022-09-16T13:41:34.576Z"
      },
      {
        "duration": 28,
        "start_time": "2022-09-16T13:41:41.648Z"
      },
      {
        "duration": 24,
        "start_time": "2022-09-16T13:41:56.600Z"
      },
      {
        "duration": 4,
        "start_time": "2022-09-16T13:42:41.859Z"
      },
      {
        "duration": 28,
        "start_time": "2022-09-16T13:42:50.998Z"
      },
      {
        "duration": 24,
        "start_time": "2022-09-16T13:43:05.794Z"
      },
      {
        "duration": 30,
        "start_time": "2022-09-16T13:45:44.606Z"
      },
      {
        "duration": 16,
        "start_time": "2022-09-16T13:45:47.810Z"
      },
      {
        "duration": 23,
        "start_time": "2022-09-16T13:46:01.127Z"
      },
      {
        "duration": 19,
        "start_time": "2022-09-16T13:46:08.494Z"
      },
      {
        "duration": 18,
        "start_time": "2022-09-16T13:46:27.402Z"
      },
      {
        "duration": 1177,
        "start_time": "2022-09-16T13:46:49.204Z"
      },
      {
        "duration": 805,
        "start_time": "2022-09-16T13:47:08.544Z"
      },
      {
        "duration": 30,
        "start_time": "2022-09-16T13:48:00.834Z"
      },
      {
        "duration": 27,
        "start_time": "2022-09-16T13:48:19.838Z"
      },
      {
        "duration": 21,
        "start_time": "2022-09-16T13:48:32.551Z"
      },
      {
        "duration": 898,
        "start_time": "2022-09-16T13:48:46.158Z"
      },
      {
        "duration": 28,
        "start_time": "2022-09-16T13:49:01.335Z"
      },
      {
        "duration": 1340,
        "start_time": "2022-09-16T13:49:17.425Z"
      },
      {
        "duration": 934,
        "start_time": "2022-09-16T13:49:30.593Z"
      },
      {
        "duration": 34,
        "start_time": "2022-09-16T13:49:41.290Z"
      },
      {
        "duration": 206,
        "start_time": "2022-09-16T13:52:34.543Z"
      },
      {
        "duration": 120,
        "start_time": "2022-09-16T13:53:13.050Z"
      },
      {
        "duration": 27,
        "start_time": "2022-09-16T13:53:36.254Z"
      },
      {
        "duration": 24,
        "start_time": "2022-09-16T13:53:44.311Z"
      },
      {
        "duration": 108,
        "start_time": "2022-09-16T13:53:50.444Z"
      },
      {
        "duration": 106,
        "start_time": "2022-09-16T13:54:16.897Z"
      },
      {
        "duration": 109,
        "start_time": "2022-09-16T13:54:22.615Z"
      },
      {
        "duration": 20,
        "start_time": "2022-09-16T14:03:15.544Z"
      },
      {
        "duration": 20,
        "start_time": "2022-09-16T14:03:23.722Z"
      },
      {
        "duration": 18,
        "start_time": "2022-09-16T14:03:50.049Z"
      },
      {
        "duration": 20,
        "start_time": "2022-09-16T14:04:51.874Z"
      },
      {
        "duration": 30,
        "start_time": "2022-09-16T14:05:18.995Z"
      },
      {
        "duration": 55,
        "start_time": "2022-09-17T22:49:10.854Z"
      },
      {
        "duration": 722,
        "start_time": "2022-09-17T22:49:20.190Z"
      },
      {
        "duration": 24,
        "start_time": "2022-09-17T22:49:20.914Z"
      },
      {
        "duration": 14,
        "start_time": "2022-09-17T22:49:20.939Z"
      },
      {
        "duration": 11,
        "start_time": "2022-09-17T22:49:20.956Z"
      },
      {
        "duration": 37,
        "start_time": "2022-09-17T22:49:20.969Z"
      },
      {
        "duration": 4,
        "start_time": "2022-09-17T22:49:21.008Z"
      },
      {
        "duration": 14,
        "start_time": "2022-09-17T22:49:21.014Z"
      },
      {
        "duration": 27,
        "start_time": "2022-09-17T22:49:21.030Z"
      },
      {
        "duration": 21,
        "start_time": "2022-09-17T22:49:21.059Z"
      },
      {
        "duration": 6,
        "start_time": "2022-09-17T22:49:21.083Z"
      },
      {
        "duration": 36,
        "start_time": "2022-09-17T22:49:21.091Z"
      },
      {
        "duration": 25,
        "start_time": "2022-09-17T22:49:21.129Z"
      },
      {
        "duration": 4,
        "start_time": "2022-09-17T22:49:21.156Z"
      },
      {
        "duration": 20,
        "start_time": "2022-09-17T22:49:21.161Z"
      },
      {
        "duration": 23,
        "start_time": "2022-09-17T22:49:21.183Z"
      },
      {
        "duration": 16,
        "start_time": "2022-09-17T22:49:21.208Z"
      },
      {
        "duration": 4,
        "start_time": "2022-09-17T22:49:21.225Z"
      },
      {
        "duration": 36,
        "start_time": "2022-09-17T22:49:21.230Z"
      },
      {
        "duration": 10,
        "start_time": "2022-09-17T22:49:21.268Z"
      },
      {
        "duration": 3,
        "start_time": "2022-09-17T22:49:21.280Z"
      },
      {
        "duration": 10,
        "start_time": "2022-09-17T22:49:21.285Z"
      },
      {
        "duration": 659,
        "start_time": "2022-09-17T22:49:21.297Z"
      },
      {
        "duration": 171,
        "start_time": "2022-09-17T22:49:21.958Z"
      },
      {
        "duration": 28,
        "start_time": "2022-09-17T22:49:22.131Z"
      },
      {
        "duration": 181,
        "start_time": "2022-09-17T22:49:22.161Z"
      },
      {
        "duration": 865,
        "start_time": "2022-09-17T22:50:08.481Z"
      },
      {
        "duration": 21,
        "start_time": "2022-09-17T22:50:24.498Z"
      },
      {
        "duration": 31,
        "start_time": "2022-09-17T22:51:29.558Z"
      },
      {
        "duration": 18,
        "start_time": "2022-09-17T22:52:13.755Z"
      },
      {
        "duration": 20,
        "start_time": "2022-09-17T22:52:35.003Z"
      },
      {
        "duration": 23,
        "start_time": "2022-09-17T22:53:09.656Z"
      },
      {
        "duration": 20,
        "start_time": "2022-09-17T22:53:28.365Z"
      },
      {
        "duration": 22,
        "start_time": "2022-09-17T22:53:44.959Z"
      },
      {
        "duration": 661,
        "start_time": "2022-09-17T22:55:30.377Z"
      },
      {
        "duration": 145,
        "start_time": "2022-09-17T22:56:43.358Z"
      },
      {
        "duration": 23,
        "start_time": "2022-09-17T22:57:28.516Z"
      },
      {
        "duration": 22,
        "start_time": "2022-09-17T22:57:35.426Z"
      },
      {
        "duration": 163,
        "start_time": "2022-09-17T22:59:43.356Z"
      },
      {
        "duration": 63,
        "start_time": "2022-09-17T22:59:53.058Z"
      },
      {
        "duration": 152,
        "start_time": "2022-09-17T23:01:35.112Z"
      },
      {
        "duration": 150,
        "start_time": "2022-09-17T23:03:11.666Z"
      },
      {
        "duration": 210,
        "start_time": "2022-09-17T23:06:59.958Z"
      },
      {
        "duration": 128,
        "start_time": "2022-09-17T23:07:13.684Z"
      },
      {
        "duration": 154,
        "start_time": "2022-09-17T23:11:14.600Z"
      },
      {
        "duration": 71,
        "start_time": "2022-09-17T23:25:46.354Z"
      },
      {
        "duration": 39,
        "start_time": "2022-09-17T23:26:11.863Z"
      },
      {
        "duration": 126,
        "start_time": "2022-09-17T23:26:22.098Z"
      },
      {
        "duration": 133,
        "start_time": "2022-09-17T23:30:06.477Z"
      },
      {
        "duration": 51,
        "start_time": "2022-09-17T23:30:54.957Z"
      },
      {
        "duration": 139,
        "start_time": "2022-09-17T23:31:05.060Z"
      },
      {
        "duration": 126,
        "start_time": "2022-09-17T23:31:45.802Z"
      },
      {
        "duration": 165,
        "start_time": "2022-09-17T23:32:17.250Z"
      },
      {
        "duration": 127,
        "start_time": "2022-09-17T23:32:28.472Z"
      },
      {
        "duration": 164,
        "start_time": "2022-09-17T23:37:33.753Z"
      },
      {
        "duration": 124,
        "start_time": "2022-09-17T23:37:54.786Z"
      },
      {
        "duration": 144,
        "start_time": "2022-09-17T23:39:47.842Z"
      },
      {
        "duration": 143,
        "start_time": "2022-09-17T23:40:17.603Z"
      },
      {
        "duration": 1123,
        "start_time": "2022-09-17T23:40:35.166Z"
      },
      {
        "duration": 180,
        "start_time": "2022-09-17T23:41:30.561Z"
      },
      {
        "duration": 1143,
        "start_time": "2022-09-17T23:41:45.672Z"
      },
      {
        "duration": 159,
        "start_time": "2022-09-17T23:42:15.212Z"
      },
      {
        "duration": 149,
        "start_time": "2022-09-17T23:42:59.766Z"
      },
      {
        "duration": 146,
        "start_time": "2022-09-17T23:43:20.085Z"
      },
      {
        "duration": 133,
        "start_time": "2022-09-17T23:43:28.213Z"
      },
      {
        "duration": 48,
        "start_time": "2022-09-17T23:43:55.864Z"
      },
      {
        "duration": 152,
        "start_time": "2022-09-17T23:44:07.446Z"
      },
      {
        "duration": 130,
        "start_time": "2022-09-17T23:44:26.319Z"
      },
      {
        "duration": 143,
        "start_time": "2022-09-17T23:48:31.773Z"
      },
      {
        "duration": 164,
        "start_time": "2022-09-17T23:50:59.255Z"
      },
      {
        "duration": 202,
        "start_time": "2022-09-18T00:09:55.894Z"
      },
      {
        "duration": 161,
        "start_time": "2022-09-18T00:10:13.140Z"
      },
      {
        "duration": 4,
        "start_time": "2022-09-18T00:13:58.212Z"
      },
      {
        "duration": 4,
        "start_time": "2022-09-18T00:14:09.350Z"
      },
      {
        "duration": 4,
        "start_time": "2022-09-18T00:23:50.639Z"
      },
      {
        "duration": 672,
        "start_time": "2022-09-18T07:10:43.992Z"
      },
      {
        "duration": 20,
        "start_time": "2022-09-18T07:10:44.666Z"
      },
      {
        "duration": 17,
        "start_time": "2022-09-18T07:10:44.688Z"
      },
      {
        "duration": 14,
        "start_time": "2022-09-18T07:10:44.707Z"
      },
      {
        "duration": 44,
        "start_time": "2022-09-18T07:10:44.723Z"
      },
      {
        "duration": 3,
        "start_time": "2022-09-18T07:10:44.768Z"
      },
      {
        "duration": 28,
        "start_time": "2022-09-18T07:10:44.773Z"
      },
      {
        "duration": 25,
        "start_time": "2022-09-18T07:10:44.802Z"
      },
      {
        "duration": 27,
        "start_time": "2022-09-18T07:10:44.829Z"
      },
      {
        "duration": 29,
        "start_time": "2022-09-18T07:10:44.857Z"
      },
      {
        "duration": 40,
        "start_time": "2022-09-18T07:10:44.887Z"
      },
      {
        "duration": 8,
        "start_time": "2022-09-18T07:10:44.928Z"
      },
      {
        "duration": 10,
        "start_time": "2022-09-18T07:10:44.937Z"
      },
      {
        "duration": 13,
        "start_time": "2022-09-18T07:10:44.950Z"
      },
      {
        "duration": 28,
        "start_time": "2022-09-18T07:10:44.964Z"
      },
      {
        "duration": 23,
        "start_time": "2022-09-18T07:10:44.994Z"
      },
      {
        "duration": 7,
        "start_time": "2022-09-18T07:10:45.019Z"
      },
      {
        "duration": 22,
        "start_time": "2022-09-18T07:10:45.028Z"
      },
      {
        "duration": 35,
        "start_time": "2022-09-18T07:10:45.051Z"
      },
      {
        "duration": 16,
        "start_time": "2022-09-18T07:10:45.088Z"
      },
      {
        "duration": 38,
        "start_time": "2022-09-18T07:10:45.105Z"
      },
      {
        "duration": 565,
        "start_time": "2022-09-18T07:10:45.144Z"
      },
      {
        "duration": 154,
        "start_time": "2022-09-18T07:10:45.711Z"
      },
      {
        "duration": 152,
        "start_time": "2022-09-18T07:10:45.866Z"
      },
      {
        "duration": 640,
        "start_time": "2022-09-18T07:10:46.020Z"
      },
      {
        "duration": 152,
        "start_time": "2022-09-18T07:10:46.661Z"
      },
      {
        "duration": 8,
        "start_time": "2022-09-18T07:11:45.685Z"
      },
      {
        "duration": 86,
        "start_time": "2022-09-18T07:12:24.490Z"
      },
      {
        "duration": 7,
        "start_time": "2022-09-18T07:12:27.622Z"
      },
      {
        "duration": 113,
        "start_time": "2022-09-18T07:12:36.526Z"
      }
    ],
    "colab": {
      "provenance": [],
      "toc_visible": true
    },
    "kernelspec": {
      "display_name": "Python 3 (ipykernel)",
      "language": "python",
      "name": "python3"
    },
    "language_info": {
      "codemirror_mode": {
        "name": "ipython",
        "version": 3
      },
      "file_extension": ".py",
      "mimetype": "text/x-python",
      "name": "python",
      "nbconvert_exporter": "python",
      "pygments_lexer": "ipython3",
      "version": "3.9.5"
    },
    "toc": {
      "base_numbering": 1,
      "nav_menu": {},
      "number_sections": true,
      "sideBar": true,
      "skip_h1_title": true,
      "title_cell": "Table of Contents",
      "title_sidebar": "Contents",
      "toc_cell": false,
      "toc_position": {},
      "toc_section_display": true,
      "toc_window_display": false
    }
  },
  "nbformat": 4,
  "nbformat_minor": 5
}